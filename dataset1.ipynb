{
 "cells": [
  {
   "cell_type": "code",
   "execution_count": 1,
   "id": "initial_id",
   "metadata": {
    "ExecuteTime": {
     "end_time": "2024-07-09T06:49:04.979943200Z",
     "start_time": "2024-07-09T06:49:00.144855500Z"
    }
   },
   "outputs": [],
   "source": [
    "import pandas as pd\n",
    "import numpy as np\n",
    "import requests as rq\n",
    "from matplotlib import pyplot as plt\n",
    "import threading as tr\n",
    "import datetime"
   ]
  },
  {
   "cell_type": "code",
   "execution_count": 2,
   "id": "688dd06bd40e7da2",
   "metadata": {
    "ExecuteTime": {
     "end_time": "2024-07-09T06:50:06.113921400Z",
     "start_time": "2024-07-09T06:50:06.041534100Z"
    },
    "collapsed": false,
    "jupyter": {
     "outputs_hidden": false
    }
   },
   "outputs": [],
   "source": [
    "url ='https://api.irbroker.com/api/v1/financialStatus'\n",
    "headers = {'x-client-token': '1234356789qwertyuiop'}\n",
    "data = {'dsCode': 764 , 'startDate': '1402/01/01', 'endDate': '1403/01/01', 'domainId': 1, 'size': -1}"
   ]
  },
  {
   "cell_type": "code",
   "execution_count": 3,
   "id": "4f1b7762af66b1ec",
   "metadata": {
    "ExecuteTime": {
     "end_time": "2024-07-09T06:50:06.551768400Z",
     "start_time": "2024-07-09T06:50:06.495612Z"
    },
    "collapsed": false,
    "jupyter": {
     "outputs_hidden": false
    }
   },
   "outputs": [],
   "source": [
    "value_list = []\n",
    "responses = []"
   ]
  },
  {
   "cell_type": "code",
   "execution_count": null,
   "id": "2d84da3d836440aa",
   "metadata": {
    "ExecuteTime": {
     "start_time": "2024-07-09T06:50:07.244147100Z"
    },
    "collapsed": false,
    "is_executing": true,
    "jupyter": {
     "outputs_hidden": false
    }
   },
   "outputs": [],
   "source": [
    "response = rq.get(url=url, headers=headers,params=data).json()['result']\n",
    "responses.append(response)"
   ]
  },
  {
   "cell_type": "code",
   "execution_count": null,
   "id": "1374654464c8e59e",
   "metadata": {
    "collapsed": false,
    "is_executing": true,
    "jupyter": {
     "outputs_hidden": false
    }
   },
   "outputs": [],
   "source": [
    "df = pd.DataFrame(responses[0])\n",
    "df"
   ]
  },
  {
   "cell_type": "code",
   "execution_count": null,
   "id": "9d11cc27612dd6c9",
   "metadata": {
    "collapsed": false,
    "is_executing": true,
    "jupyter": {
     "outputs_hidden": false
    }
   },
   "outputs": [],
   "source": [
    "choose = ['remain', 'balance']\n",
    "robin_df = df[choose]\n",
    "robin_df"
   ]
  },
  {
   "cell_type": "code",
   "execution_count": null,
   "id": "4d3bd7767070591d",
   "metadata": {
    "collapsed": false,
    "is_executing": true,
    "jupyter": {
     "outputs_hidden": false
    }
   },
   "outputs": [],
   "source": [
    "percent = []\n",
    "for row in robin_df.iterrows():\n",
    "        Remain = row[1][0]\n",
    "        status = row[1][1]\n",
    "        percent.append((Remain - status)/status * 100)\n",
    "robin_df['changingPercent'] = percent\n",
    "data = robin_df[robin_df['balance'] > 300000]\n",
    "data"
   ]
  },
  {
   "cell_type": "code",
   "execution_count": null,
   "id": "68e0e3e8f67b6ffe",
   "metadata": {
    "collapsed": false,
    "is_executing": true,
    "jupyter": {
     "outputs_hidden": false
    }
   },
   "outputs": [],
   "source": [
    "exit_df = data[data['changingPercent'] < 0]\n",
    "exit_df.reset_index(inplace=True, drop='index')\n",
    "exit_df"
   ]
  },
  {
   "cell_type": "code",
   "execution_count": null,
   "id": "faf38b7c27bd72b0",
   "metadata": {
    "collapsed": false,
    "is_executing": true,
    "jupyter": {
     "outputs_hidden": false
    }
   },
   "outputs": [],
   "source": [
    "mask = exit_df['changingPercent'] < -100\n",
    "\n",
    "exit_df.loc[mask, 'changingPercent'] = -100\n",
    "exit_df.sort_values(by='balance', inplace=True)\n",
    "exit_df"
   ]
  },
  {
   "cell_type": "code",
   "execution_count": null,
   "id": "fd47cb4829888028",
   "metadata": {
    "collapsed": false,
    "is_executing": true,
    "jupyter": {
     "outputs_hidden": false
    }
   },
   "outputs": [],
   "source": [
    "x = np.log(exit_df['balance'])\n",
    "y = np.log(exit_df['changingPercent'] * -1)"
   ]
  },
  {
   "cell_type": "code",
   "execution_count": null,
   "id": "5d1028183fc20e5f",
   "metadata": {
    "collapsed": false,
    "is_executing": true,
    "jupyter": {
     "outputs_hidden": false
    }
   },
   "outputs": [],
   "source": [
    "plt.scatter(x, y)\n",
    "plt.show()"
   ]
  },
  {
   "cell_type": "code",
   "execution_count": null,
   "id": "588600f209270436",
   "metadata": {
    "collapsed": false,
    "is_executing": true,
    "jupyter": {
     "outputs_hidden": false
    }
   },
   "outputs": [],
   "source": [
    "scaled_df = exit_df[(np.exp(18) > exit_df['balance']) & (exit_df['balance'] > np.exp(12))]\n",
    "x1 = np.log(scaled_df['balance'])\n",
    "y1 = np.log(scaled_df['changingPercent'] * -1)\n",
    "plt.scatter(x1, y1)\n",
    "plt.show()"
   ]
  },
  {
   "cell_type": "code",
   "execution_count": null,
   "id": "7c4a6a17-25db-475b-a70a-b056f6ff3334",
   "metadata": {},
   "outputs": [],
   "source": []
  }
 ],
 "metadata": {
  "kernelspec": {
   "display_name": "Python 3 (ipykernel)",
   "language": "python",
   "name": "python3"
  },
  "language_info": {
   "codemirror_mode": {
    "name": "ipython",
    "version": 3
   },
   "file_extension": ".py",
   "mimetype": "text/x-python",
   "name": "python",
   "nbconvert_exporter": "python",
   "pygments_lexer": "ipython3",
   "version": "3.11.7"
  }
 },
 "nbformat": 4,
 "nbformat_minor": 5
}
