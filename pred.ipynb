{
 "cells": [
  {
   "cell_type": "code",
   "outputs": [],
   "source": [
    "import numpy as np\n",
    "import pandas as pd\n",
    "import matplotlib.pyplot as plt \n",
    "\n",
    "from sklearn.linear_model import LinearRegression\n",
    "from sklearn.model_selection import train_test_split"
   ],
   "metadata": {
    "collapsed": true,
    "ExecuteTime": {
     "end_time": "2024-07-22T10:09:39.441127200Z",
     "start_time": "2024-07-22T10:09:30.139261200Z"
    }
   },
   "id": "initial_id",
   "execution_count": 1
  },
  {
   "cell_type": "code",
   "outputs": [
    {
     "data": {
      "text/plain": "creationDate\n1402-05-30     20918231338\n1402-05-31    107335768668\n1402-06-01     89425066314\n1402-06-02      1783310080\n1402-06-03       783271734\n                  ...     \n1403-03-23    210087467156\n1403-03-24       437390053\n1403-03-25       816620442\n1403-03-26     48428832152\n1403-03-27       631820229\nName: requestAmount, Length: 300, dtype: int64"
     },
     "execution_count": 91,
     "metadata": {},
     "output_type": "execute_result"
    }
   ],
   "source": [
    "dfs = pd.read_csv('Dataframe.csv')\n",
    "dfs2 = dfs.groupby(by='creationDate', sort=True)['requestAmount'].agg('sum')\n",
    "dfs2"
   ],
   "metadata": {
    "collapsed": false,
    "ExecuteTime": {
     "end_time": "2024-07-22T07:35:47.489208500Z",
     "start_time": "2024-07-22T07:35:47.442678300Z"
    }
   },
   "id": "727dd00fdd19cb6c",
   "execution_count": 91
  },
  {
   "cell_type": "code",
   "outputs": [
    {
     "data": {
      "text/plain": "         nationalCode  isPortfo        customerFullName bourseAccountName  \\\n0        164-008217-4         1       حشمتي شربياني رضا          prx03328   \n1        006-771639-3         1  شكري صومعه كبودين رقيه          prx04345   \n2        032-334800-9         1      رنج كش قاضي  اميد           prx06043   \n3        001-033142-5         1          آراسته  شراره           prx07836   \n4        003-385369-1         1             كتابي مسعود          prx13450   \n...               ...       ...                     ...               ...   \n2579494  031-227082-8         0             مبصر عليرضا       ع ش ك 60581   \n2579495  556-103700-5         0      حاجي زاده اميرحسين       ع ض ف 13813   \n2579496  428-585917-3         0              كريمي ناصر         كريـ68144   \n2579497  032-151934-5         0       فرخي خانقاه شاهرخ         فرخـ01935   \n2579498  448-992822-1         0        افخمي ميبدي حميد         افخـ01527   \n\n         totalAssetValue  creditAssetValue  marginAccountValue  \\\n0               54624134                 0                   0   \n1                      0                 0                   0   \n2               59726104          59726104            35835662   \n3                      0                 0                   0   \n4                      0                 0                   0   \n...                  ...               ...                 ...   \n2579494          1000000                 0                   0   \n2579495           100000                 0                   0   \n2579496       1088000000                 0                   0   \n2579497          1000000                 0                   0   \n2579498         20000000                 0                   0   \n\n         startingCredit  loanWithProfit   wltRemain  ...  withoutActionDays  \\\n0                   0.0               0      265634  ...               32.0   \n1                   0.0               0           0  ...              683.0   \n2                   0.0               0           0  ...               11.0   \n3                   0.0               0           0  ...               11.0   \n4                   0.0               0           0  ...              140.0   \n...                 ...             ...         ...  ...                ...   \n2579494             0.0               0     1000000  ...               38.0   \n2579495             0.0               0      100000  ...               97.0   \n2579496             0.0               0  1088000000  ...                4.0   \n2579497             0.0               0     1000000  ...                7.0   \n2579498             0.0               0    20000000  ...                0.0   \n\n         withoutActionBusinessDays  wltRemainToMarginAccount  \\\n0                               23                       NaN   \n1                              450                       NaN   \n2                                9                       0.0   \n3                                9                       NaN   \n4                               93                       NaN   \n...                            ...                       ...   \n2579494                         25                       NaN   \n2579495                         68                       NaN   \n2579496                          2                       NaN   \n2579497                          5                       NaN   \n2579498                          0                       NaN   \n\n         lastRemainToMarginAccount  lastTransactionDate           branchName  \\\n0                              NaN           1402/04/31                هویزه   \n1                              NaN           1400/07/17                هویزه   \n2                              0.0           1402/05/21                هویزه   \n3                              NaN           1402/05/21                هویزه   \n4                              NaN           1402/01/16               آرارات   \n...                            ...                  ...                  ...   \n2579494                        NaN           1402/09/22  کرج (بلوارامام رضا)   \n2579495                        NaN           1402/07/23            اسلام شهر   \n2579496                        NaN           1402/10/26            اسلام شهر   \n2579497                        NaN           1402/10/23              جمهوری    \n2579498                        NaN           1402/10/30              جمهوری    \n\n         warningCount  lastWarningDate  dbsAccountNumber  dlNumber  \n0                   0              NaN      7.646184e+09   1016964  \n1                   0              NaN      7.646188e+09   1016855  \n2                   0              NaN      7.646192e+09   1041717  \n3                   0              NaN      7.646196e+09   1041639  \n4                   0              NaN      7.646209e+09   1053970  \n...               ...              ...               ...       ...  \n2579494             0              NaN      7.649031e+13   1065661  \n2579495             0              NaN      7.649556e+13   1072075  \n2579496             0              NaN      7.649429e+13   1074961  \n2579497             0              NaN      7.649032e+13   1072558  \n2579498             0              NaN      7.649449e+13   1074338  \n\n[2579499 rows x 27 columns]",
      "text/html": "<div>\n<style scoped>\n    .dataframe tbody tr th:only-of-type {\n        vertical-align: middle;\n    }\n\n    .dataframe tbody tr th {\n        vertical-align: top;\n    }\n\n    .dataframe thead th {\n        text-align: right;\n    }\n</style>\n<table border=\"1\" class=\"dataframe\">\n  <thead>\n    <tr style=\"text-align: right;\">\n      <th></th>\n      <th>nationalCode</th>\n      <th>isPortfo</th>\n      <th>customerFullName</th>\n      <th>bourseAccountName</th>\n      <th>totalAssetValue</th>\n      <th>creditAssetValue</th>\n      <th>marginAccountValue</th>\n      <th>startingCredit</th>\n      <th>loanWithProfit</th>\n      <th>wltRemain</th>\n      <th>...</th>\n      <th>withoutActionDays</th>\n      <th>withoutActionBusinessDays</th>\n      <th>wltRemainToMarginAccount</th>\n      <th>lastRemainToMarginAccount</th>\n      <th>lastTransactionDate</th>\n      <th>branchName</th>\n      <th>warningCount</th>\n      <th>lastWarningDate</th>\n      <th>dbsAccountNumber</th>\n      <th>dlNumber</th>\n    </tr>\n  </thead>\n  <tbody>\n    <tr>\n      <th>0</th>\n      <td>164-008217-4</td>\n      <td>1</td>\n      <td>حشمتي شربياني رضا</td>\n      <td>prx03328</td>\n      <td>54624134</td>\n      <td>0</td>\n      <td>0</td>\n      <td>0.0</td>\n      <td>0</td>\n      <td>265634</td>\n      <td>...</td>\n      <td>32.0</td>\n      <td>23</td>\n      <td>NaN</td>\n      <td>NaN</td>\n      <td>1402/04/31</td>\n      <td>هویزه</td>\n      <td>0</td>\n      <td>NaN</td>\n      <td>7.646184e+09</td>\n      <td>1016964</td>\n    </tr>\n    <tr>\n      <th>1</th>\n      <td>006-771639-3</td>\n      <td>1</td>\n      <td>شكري صومعه كبودين رقيه</td>\n      <td>prx04345</td>\n      <td>0</td>\n      <td>0</td>\n      <td>0</td>\n      <td>0.0</td>\n      <td>0</td>\n      <td>0</td>\n      <td>...</td>\n      <td>683.0</td>\n      <td>450</td>\n      <td>NaN</td>\n      <td>NaN</td>\n      <td>1400/07/17</td>\n      <td>هویزه</td>\n      <td>0</td>\n      <td>NaN</td>\n      <td>7.646188e+09</td>\n      <td>1016855</td>\n    </tr>\n    <tr>\n      <th>2</th>\n      <td>032-334800-9</td>\n      <td>1</td>\n      <td>رنج كش قاضي  اميد</td>\n      <td>prx06043</td>\n      <td>59726104</td>\n      <td>59726104</td>\n      <td>35835662</td>\n      <td>0.0</td>\n      <td>0</td>\n      <td>0</td>\n      <td>...</td>\n      <td>11.0</td>\n      <td>9</td>\n      <td>0.0</td>\n      <td>0.0</td>\n      <td>1402/05/21</td>\n      <td>هویزه</td>\n      <td>0</td>\n      <td>NaN</td>\n      <td>7.646192e+09</td>\n      <td>1041717</td>\n    </tr>\n    <tr>\n      <th>3</th>\n      <td>001-033142-5</td>\n      <td>1</td>\n      <td>آراسته  شراره</td>\n      <td>prx07836</td>\n      <td>0</td>\n      <td>0</td>\n      <td>0</td>\n      <td>0.0</td>\n      <td>0</td>\n      <td>0</td>\n      <td>...</td>\n      <td>11.0</td>\n      <td>9</td>\n      <td>NaN</td>\n      <td>NaN</td>\n      <td>1402/05/21</td>\n      <td>هویزه</td>\n      <td>0</td>\n      <td>NaN</td>\n      <td>7.646196e+09</td>\n      <td>1041639</td>\n    </tr>\n    <tr>\n      <th>4</th>\n      <td>003-385369-1</td>\n      <td>1</td>\n      <td>كتابي مسعود</td>\n      <td>prx13450</td>\n      <td>0</td>\n      <td>0</td>\n      <td>0</td>\n      <td>0.0</td>\n      <td>0</td>\n      <td>0</td>\n      <td>...</td>\n      <td>140.0</td>\n      <td>93</td>\n      <td>NaN</td>\n      <td>NaN</td>\n      <td>1402/01/16</td>\n      <td>آرارات</td>\n      <td>0</td>\n      <td>NaN</td>\n      <td>7.646209e+09</td>\n      <td>1053970</td>\n    </tr>\n    <tr>\n      <th>...</th>\n      <td>...</td>\n      <td>...</td>\n      <td>...</td>\n      <td>...</td>\n      <td>...</td>\n      <td>...</td>\n      <td>...</td>\n      <td>...</td>\n      <td>...</td>\n      <td>...</td>\n      <td>...</td>\n      <td>...</td>\n      <td>...</td>\n      <td>...</td>\n      <td>...</td>\n      <td>...</td>\n      <td>...</td>\n      <td>...</td>\n      <td>...</td>\n      <td>...</td>\n      <td>...</td>\n    </tr>\n    <tr>\n      <th>2579494</th>\n      <td>031-227082-8</td>\n      <td>0</td>\n      <td>مبصر عليرضا</td>\n      <td>ع ش ك 60581</td>\n      <td>1000000</td>\n      <td>0</td>\n      <td>0</td>\n      <td>0.0</td>\n      <td>0</td>\n      <td>1000000</td>\n      <td>...</td>\n      <td>38.0</td>\n      <td>25</td>\n      <td>NaN</td>\n      <td>NaN</td>\n      <td>1402/09/22</td>\n      <td>کرج (بلوارامام رضا)</td>\n      <td>0</td>\n      <td>NaN</td>\n      <td>7.649031e+13</td>\n      <td>1065661</td>\n    </tr>\n    <tr>\n      <th>2579495</th>\n      <td>556-103700-5</td>\n      <td>0</td>\n      <td>حاجي زاده اميرحسين</td>\n      <td>ع ض ف 13813</td>\n      <td>100000</td>\n      <td>0</td>\n      <td>0</td>\n      <td>0.0</td>\n      <td>0</td>\n      <td>100000</td>\n      <td>...</td>\n      <td>97.0</td>\n      <td>68</td>\n      <td>NaN</td>\n      <td>NaN</td>\n      <td>1402/07/23</td>\n      <td>اسلام شهر</td>\n      <td>0</td>\n      <td>NaN</td>\n      <td>7.649556e+13</td>\n      <td>1072075</td>\n    </tr>\n    <tr>\n      <th>2579496</th>\n      <td>428-585917-3</td>\n      <td>0</td>\n      <td>كريمي ناصر</td>\n      <td>كريـ68144</td>\n      <td>1088000000</td>\n      <td>0</td>\n      <td>0</td>\n      <td>0.0</td>\n      <td>0</td>\n      <td>1088000000</td>\n      <td>...</td>\n      <td>4.0</td>\n      <td>2</td>\n      <td>NaN</td>\n      <td>NaN</td>\n      <td>1402/10/26</td>\n      <td>اسلام شهر</td>\n      <td>0</td>\n      <td>NaN</td>\n      <td>7.649429e+13</td>\n      <td>1074961</td>\n    </tr>\n    <tr>\n      <th>2579497</th>\n      <td>032-151934-5</td>\n      <td>0</td>\n      <td>فرخي خانقاه شاهرخ</td>\n      <td>فرخـ01935</td>\n      <td>1000000</td>\n      <td>0</td>\n      <td>0</td>\n      <td>0.0</td>\n      <td>0</td>\n      <td>1000000</td>\n      <td>...</td>\n      <td>7.0</td>\n      <td>5</td>\n      <td>NaN</td>\n      <td>NaN</td>\n      <td>1402/10/23</td>\n      <td>جمهوری</td>\n      <td>0</td>\n      <td>NaN</td>\n      <td>7.649032e+13</td>\n      <td>1072558</td>\n    </tr>\n    <tr>\n      <th>2579498</th>\n      <td>448-992822-1</td>\n      <td>0</td>\n      <td>افخمي ميبدي حميد</td>\n      <td>افخـ01527</td>\n      <td>20000000</td>\n      <td>0</td>\n      <td>0</td>\n      <td>0.0</td>\n      <td>0</td>\n      <td>20000000</td>\n      <td>...</td>\n      <td>0.0</td>\n      <td>0</td>\n      <td>NaN</td>\n      <td>NaN</td>\n      <td>1402/10/30</td>\n      <td>جمهوری</td>\n      <td>0</td>\n      <td>NaN</td>\n      <td>7.649449e+13</td>\n      <td>1074338</td>\n    </tr>\n  </tbody>\n</table>\n<p>2579499 rows × 27 columns</p>\n</div>"
     },
     "execution_count": 72,
     "metadata": {},
     "output_type": "execute_result"
    }
   ],
   "source": [
    "df = pd.read_csv('Final Dataset.csv', low_memory=False)\n",
    "df"
   ],
   "metadata": {
    "collapsed": false,
    "ExecuteTime": {
     "end_time": "2024-07-22T07:25:15.867762Z",
     "start_time": "2024-07-22T07:24:59.579439400Z"
    }
   },
   "id": "351bbc2a6f25e02",
   "execution_count": 72
  },
  {
   "cell_type": "code",
   "outputs": [
    {
     "data": {
      "text/plain": "     lastTransactionDate  isPortfo  totalAssetValue  creditAssetValue  \\\n0             1395/10/05         0                0                 0   \n1             1395/10/06         0                0                 0   \n2             1395/10/07         0                0                 0   \n3             1395/10/11         0                0                 0   \n4             1395/10/12         0                0                 0   \n...                  ...       ...              ...               ...   \n1722          1402/11/26         0     229530731538      211027865683   \n1723          1402/11/27         0      36172415437       30979546514   \n1724          1402/11/28        35   10714505609970    10286377242133   \n1725          1402/11/29        27    6018290627285     5669569017818   \n1726          1402/11/30        27    8565093119336     8030656181148   \n\n      marginAccountValue  startingCredit  loanWithProfit     wltRemain  \\\n0                      0    0.000000e+00               0             0   \n1                      0    0.000000e+00               0             0   \n2                      0    0.000000e+00               0             0   \n3                      0    0.000000e+00               0             0   \n4                      0    0.000000e+00               0             0   \n...                  ...             ...             ...           ...   \n1722        130140900153    2.000000e+10               0   20404814189   \n1723         17207568924    0.000000e+00               0    7070746391   \n1724       6879290720483    1.223990e+12               0  318345291406   \n1725       3363755791075    1.763006e+11               0  158306979880   \n1726       4796802801558    2.627056e+11               0  305241415398   \n\n      wltRemainWithoutLoan    lastRemain  ...  usableCredit  \\\n0                        0             0  ...  0.000000e+00   \n1                        0             0  ...  0.000000e+00   \n2                        0             0  ...  0.000000e+00   \n3                        0             0  ...  0.000000e+00   \n4                        0             0  ...  0.000000e+00   \n...                    ...           ...  ...           ...   \n1722           20404814189   18245314355  ...  3.824531e+10   \n1723            7070746391    5179431923  ...  5.179432e+09   \n1724          318345291406  404159959787  ...  1.628150e+12   \n1725          158306979880  264289506929  ...  4.405901e+11   \n1726          305241415398  446156664885  ...  7.088623e+11   \n\n      accountBaseUsableCredit  creditSettlement  withoutActionDays  \\\n0                           0                 0            75857.0   \n1                           0                 0            75826.0   \n2                           0                 0            75795.0   \n3                           0                 0            75671.0   \n4                           0                 0            75640.0   \n...                       ...               ...                ...   \n1722             148386214483                 0               78.0   \n1723              22387000844                 0               10.0   \n1724            7283450679895                 0              955.0   \n1725            3628045297558                 0              551.0   \n1726            5242959466221                 0                0.0   \n\n      withoutActionBusinessDays  wltRemainToMarginAccount  \\\n0                         49824                      0.00   \n1                         49793                      0.00   \n2                         49762                      0.00   \n3                         49700                      0.00   \n4                         49669                      0.00   \n...                         ...                       ...   \n1722                         37                    204.03   \n1723                         10                     56.50   \n1724                        955                   7802.91   \n1725                        551                  15698.86   \n1726                          0                -252156.36   \n\n      lastRemainToMarginAccount  warningCount  dbsAccountNumber    dlNumber  \n0                          0.00             0      2.371294e+15    31014539  \n1                          0.00             0      2.371291e+15    31010602  \n2                          0.00             0      2.371277e+15    31010478  \n3                          0.00             0      2.370884e+12    31020677  \n4                          0.00             0      2.371239e+15    31010788  \n...                         ...           ...               ...         ...  \n1722                     197.54             0      4.742444e+15    63493915  \n1723                      54.26             0      1.453334e+15    19806756  \n1724                   11575.69             5      9.898165e+16  1384146666  \n1725                   17715.80             0      1.066303e+17  1471535538  \n1726                  144386.96             0      6.478979e+16   918147128  \n\n[1727 rows x 22 columns]",
      "text/html": "<div>\n<style scoped>\n    .dataframe tbody tr th:only-of-type {\n        vertical-align: middle;\n    }\n\n    .dataframe tbody tr th {\n        vertical-align: top;\n    }\n\n    .dataframe thead th {\n        text-align: right;\n    }\n</style>\n<table border=\"1\" class=\"dataframe\">\n  <thead>\n    <tr style=\"text-align: right;\">\n      <th></th>\n      <th>lastTransactionDate</th>\n      <th>isPortfo</th>\n      <th>totalAssetValue</th>\n      <th>creditAssetValue</th>\n      <th>marginAccountValue</th>\n      <th>startingCredit</th>\n      <th>loanWithProfit</th>\n      <th>wltRemain</th>\n      <th>wltRemainWithoutLoan</th>\n      <th>lastRemain</th>\n      <th>...</th>\n      <th>usableCredit</th>\n      <th>accountBaseUsableCredit</th>\n      <th>creditSettlement</th>\n      <th>withoutActionDays</th>\n      <th>withoutActionBusinessDays</th>\n      <th>wltRemainToMarginAccount</th>\n      <th>lastRemainToMarginAccount</th>\n      <th>warningCount</th>\n      <th>dbsAccountNumber</th>\n      <th>dlNumber</th>\n    </tr>\n  </thead>\n  <tbody>\n    <tr>\n      <th>0</th>\n      <td>1395/10/05</td>\n      <td>0</td>\n      <td>0</td>\n      <td>0</td>\n      <td>0</td>\n      <td>0.000000e+00</td>\n      <td>0</td>\n      <td>0</td>\n      <td>0</td>\n      <td>0</td>\n      <td>...</td>\n      <td>0.000000e+00</td>\n      <td>0</td>\n      <td>0</td>\n      <td>75857.0</td>\n      <td>49824</td>\n      <td>0.00</td>\n      <td>0.00</td>\n      <td>0</td>\n      <td>2.371294e+15</td>\n      <td>31014539</td>\n    </tr>\n    <tr>\n      <th>1</th>\n      <td>1395/10/06</td>\n      <td>0</td>\n      <td>0</td>\n      <td>0</td>\n      <td>0</td>\n      <td>0.000000e+00</td>\n      <td>0</td>\n      <td>0</td>\n      <td>0</td>\n      <td>0</td>\n      <td>...</td>\n      <td>0.000000e+00</td>\n      <td>0</td>\n      <td>0</td>\n      <td>75826.0</td>\n      <td>49793</td>\n      <td>0.00</td>\n      <td>0.00</td>\n      <td>0</td>\n      <td>2.371291e+15</td>\n      <td>31010602</td>\n    </tr>\n    <tr>\n      <th>2</th>\n      <td>1395/10/07</td>\n      <td>0</td>\n      <td>0</td>\n      <td>0</td>\n      <td>0</td>\n      <td>0.000000e+00</td>\n      <td>0</td>\n      <td>0</td>\n      <td>0</td>\n      <td>0</td>\n      <td>...</td>\n      <td>0.000000e+00</td>\n      <td>0</td>\n      <td>0</td>\n      <td>75795.0</td>\n      <td>49762</td>\n      <td>0.00</td>\n      <td>0.00</td>\n      <td>0</td>\n      <td>2.371277e+15</td>\n      <td>31010478</td>\n    </tr>\n    <tr>\n      <th>3</th>\n      <td>1395/10/11</td>\n      <td>0</td>\n      <td>0</td>\n      <td>0</td>\n      <td>0</td>\n      <td>0.000000e+00</td>\n      <td>0</td>\n      <td>0</td>\n      <td>0</td>\n      <td>0</td>\n      <td>...</td>\n      <td>0.000000e+00</td>\n      <td>0</td>\n      <td>0</td>\n      <td>75671.0</td>\n      <td>49700</td>\n      <td>0.00</td>\n      <td>0.00</td>\n      <td>0</td>\n      <td>2.370884e+12</td>\n      <td>31020677</td>\n    </tr>\n    <tr>\n      <th>4</th>\n      <td>1395/10/12</td>\n      <td>0</td>\n      <td>0</td>\n      <td>0</td>\n      <td>0</td>\n      <td>0.000000e+00</td>\n      <td>0</td>\n      <td>0</td>\n      <td>0</td>\n      <td>0</td>\n      <td>...</td>\n      <td>0.000000e+00</td>\n      <td>0</td>\n      <td>0</td>\n      <td>75640.0</td>\n      <td>49669</td>\n      <td>0.00</td>\n      <td>0.00</td>\n      <td>0</td>\n      <td>2.371239e+15</td>\n      <td>31010788</td>\n    </tr>\n    <tr>\n      <th>...</th>\n      <td>...</td>\n      <td>...</td>\n      <td>...</td>\n      <td>...</td>\n      <td>...</td>\n      <td>...</td>\n      <td>...</td>\n      <td>...</td>\n      <td>...</td>\n      <td>...</td>\n      <td>...</td>\n      <td>...</td>\n      <td>...</td>\n      <td>...</td>\n      <td>...</td>\n      <td>...</td>\n      <td>...</td>\n      <td>...</td>\n      <td>...</td>\n      <td>...</td>\n      <td>...</td>\n    </tr>\n    <tr>\n      <th>1722</th>\n      <td>1402/11/26</td>\n      <td>0</td>\n      <td>229530731538</td>\n      <td>211027865683</td>\n      <td>130140900153</td>\n      <td>2.000000e+10</td>\n      <td>0</td>\n      <td>20404814189</td>\n      <td>20404814189</td>\n      <td>18245314355</td>\n      <td>...</td>\n      <td>3.824531e+10</td>\n      <td>148386214483</td>\n      <td>0</td>\n      <td>78.0</td>\n      <td>37</td>\n      <td>204.03</td>\n      <td>197.54</td>\n      <td>0</td>\n      <td>4.742444e+15</td>\n      <td>63493915</td>\n    </tr>\n    <tr>\n      <th>1723</th>\n      <td>1402/11/27</td>\n      <td>0</td>\n      <td>36172415437</td>\n      <td>30979546514</td>\n      <td>17207568924</td>\n      <td>0.000000e+00</td>\n      <td>0</td>\n      <td>7070746391</td>\n      <td>7070746391</td>\n      <td>5179431923</td>\n      <td>...</td>\n      <td>5.179432e+09</td>\n      <td>22387000844</td>\n      <td>0</td>\n      <td>10.0</td>\n      <td>10</td>\n      <td>56.50</td>\n      <td>54.26</td>\n      <td>0</td>\n      <td>1.453334e+15</td>\n      <td>19806756</td>\n    </tr>\n    <tr>\n      <th>1724</th>\n      <td>1402/11/28</td>\n      <td>35</td>\n      <td>10714505609970</td>\n      <td>10286377242133</td>\n      <td>6879290720483</td>\n      <td>1.223990e+12</td>\n      <td>0</td>\n      <td>318345291406</td>\n      <td>318345291406</td>\n      <td>404159959787</td>\n      <td>...</td>\n      <td>1.628150e+12</td>\n      <td>7283450679895</td>\n      <td>0</td>\n      <td>955.0</td>\n      <td>955</td>\n      <td>7802.91</td>\n      <td>11575.69</td>\n      <td>5</td>\n      <td>9.898165e+16</td>\n      <td>1384146666</td>\n    </tr>\n    <tr>\n      <th>1725</th>\n      <td>1402/11/29</td>\n      <td>27</td>\n      <td>6018290627285</td>\n      <td>5669569017818</td>\n      <td>3363755791075</td>\n      <td>1.763006e+11</td>\n      <td>0</td>\n      <td>158306979880</td>\n      <td>158306979880</td>\n      <td>264289506929</td>\n      <td>...</td>\n      <td>4.405901e+11</td>\n      <td>3628045297558</td>\n      <td>0</td>\n      <td>551.0</td>\n      <td>551</td>\n      <td>15698.86</td>\n      <td>17715.80</td>\n      <td>0</td>\n      <td>1.066303e+17</td>\n      <td>1471535538</td>\n    </tr>\n    <tr>\n      <th>1726</th>\n      <td>1402/11/30</td>\n      <td>27</td>\n      <td>8565093119336</td>\n      <td>8030656181148</td>\n      <td>4796802801558</td>\n      <td>2.627056e+11</td>\n      <td>0</td>\n      <td>305241415398</td>\n      <td>305241415398</td>\n      <td>446156664885</td>\n      <td>...</td>\n      <td>7.088623e+11</td>\n      <td>5242959466221</td>\n      <td>0</td>\n      <td>0.0</td>\n      <td>0</td>\n      <td>-252156.36</td>\n      <td>144386.96</td>\n      <td>0</td>\n      <td>6.478979e+16</td>\n      <td>918147128</td>\n    </tr>\n  </tbody>\n</table>\n<p>1727 rows × 22 columns</p>\n</div>"
     },
     "execution_count": 98,
     "metadata": {},
     "output_type": "execute_result"
    }
   ],
   "source": [
    "sum_df = (df.groupby(by='lastTransactionDate', as_index=False, sort='lastTransactionDate')\n",
    "          .sum(['wltRemain', 'lastRemain', 'periodChange']))\n",
    "sum_df"
   ],
   "metadata": {
    "collapsed": false,
    "ExecuteTime": {
     "end_time": "2024-07-22T07:59:42.678251200Z",
     "start_time": "2024-07-22T07:59:42.206555300Z"
    }
   },
   "id": "5e905a78d1cf8027",
   "execution_count": 98
  },
  {
   "cell_type": "code",
   "outputs": [
    {
     "data": {
      "text/plain": "         lastRemain   wltRemain  periodChange  withoutActionDays\n0            265634      265634             0               32.0\n1                 0           0             0              683.0\n2                 0           0             0               11.0\n3                 0           0             0               11.0\n4                 0           0             0              140.0\n...             ...         ...           ...                ...\n2579494     1000000     1000000             0               38.0\n2579495      100000      100000             0               97.0\n2579496  1088000000  1088000000             0                4.0\n2579497     1000000     1000000             0                7.0\n2579498    20000000    20000000             0                0.0\n\n[2579499 rows x 4 columns]",
      "text/html": "<div>\n<style scoped>\n    .dataframe tbody tr th:only-of-type {\n        vertical-align: middle;\n    }\n\n    .dataframe tbody tr th {\n        vertical-align: top;\n    }\n\n    .dataframe thead th {\n        text-align: right;\n    }\n</style>\n<table border=\"1\" class=\"dataframe\">\n  <thead>\n    <tr style=\"text-align: right;\">\n      <th></th>\n      <th>lastRemain</th>\n      <th>wltRemain</th>\n      <th>periodChange</th>\n      <th>withoutActionDays</th>\n    </tr>\n  </thead>\n  <tbody>\n    <tr>\n      <th>0</th>\n      <td>265634</td>\n      <td>265634</td>\n      <td>0</td>\n      <td>32.0</td>\n    </tr>\n    <tr>\n      <th>1</th>\n      <td>0</td>\n      <td>0</td>\n      <td>0</td>\n      <td>683.0</td>\n    </tr>\n    <tr>\n      <th>2</th>\n      <td>0</td>\n      <td>0</td>\n      <td>0</td>\n      <td>11.0</td>\n    </tr>\n    <tr>\n      <th>3</th>\n      <td>0</td>\n      <td>0</td>\n      <td>0</td>\n      <td>11.0</td>\n    </tr>\n    <tr>\n      <th>4</th>\n      <td>0</td>\n      <td>0</td>\n      <td>0</td>\n      <td>140.0</td>\n    </tr>\n    <tr>\n      <th>...</th>\n      <td>...</td>\n      <td>...</td>\n      <td>...</td>\n      <td>...</td>\n    </tr>\n    <tr>\n      <th>2579494</th>\n      <td>1000000</td>\n      <td>1000000</td>\n      <td>0</td>\n      <td>38.0</td>\n    </tr>\n    <tr>\n      <th>2579495</th>\n      <td>100000</td>\n      <td>100000</td>\n      <td>0</td>\n      <td>97.0</td>\n    </tr>\n    <tr>\n      <th>2579496</th>\n      <td>1088000000</td>\n      <td>1088000000</td>\n      <td>0</td>\n      <td>4.0</td>\n    </tr>\n    <tr>\n      <th>2579497</th>\n      <td>1000000</td>\n      <td>1000000</td>\n      <td>0</td>\n      <td>7.0</td>\n    </tr>\n    <tr>\n      <th>2579498</th>\n      <td>20000000</td>\n      <td>20000000</td>\n      <td>0</td>\n      <td>0.0</td>\n    </tr>\n  </tbody>\n</table>\n<p>2579499 rows × 4 columns</p>\n</div>"
     },
     "execution_count": 73,
     "metadata": {},
     "output_type": "execute_result"
    }
   ],
   "source": [
    "chosen_col = ['lastRemain', 'wltRemain', 'periodChange',\n",
    "              'withoutActionDays']\n",
    "data = df[chosen_col]\n",
    "data"
   ],
   "metadata": {
    "collapsed": false,
    "ExecuteTime": {
     "end_time": "2024-07-22T07:25:15.983056100Z",
     "start_time": "2024-07-22T07:25:15.872878700Z"
    }
   },
   "id": "ff26d4699872311",
   "execution_count": 73
  },
  {
   "cell_type": "code",
   "outputs": [
    {
     "data": {
      "text/plain": "         lastRemain   wltRemain  periodChange  withoutActionDays\n0            265634      265634             0               32.0\n7           5881453    62189184     -56307731                0.0\n9            716335      716335             0               32.0\n13         26956855    26956855             0              694.0\n14         10422118    10422118             0                2.0\n...             ...         ...           ...                ...\n2579494     1000000     1000000             0               38.0\n2579495      100000      100000             0               97.0\n2579496  1088000000  1088000000             0                4.0\n2579497     1000000     1000000             0                7.0\n2579498    20000000    20000000             0                0.0\n\n[1837180 rows x 4 columns]",
      "text/html": "<div>\n<style scoped>\n    .dataframe tbody tr th:only-of-type {\n        vertical-align: middle;\n    }\n\n    .dataframe tbody tr th {\n        vertical-align: top;\n    }\n\n    .dataframe thead th {\n        text-align: right;\n    }\n</style>\n<table border=\"1\" class=\"dataframe\">\n  <thead>\n    <tr style=\"text-align: right;\">\n      <th></th>\n      <th>lastRemain</th>\n      <th>wltRemain</th>\n      <th>periodChange</th>\n      <th>withoutActionDays</th>\n    </tr>\n  </thead>\n  <tbody>\n    <tr>\n      <th>0</th>\n      <td>265634</td>\n      <td>265634</td>\n      <td>0</td>\n      <td>32.0</td>\n    </tr>\n    <tr>\n      <th>7</th>\n      <td>5881453</td>\n      <td>62189184</td>\n      <td>-56307731</td>\n      <td>0.0</td>\n    </tr>\n    <tr>\n      <th>9</th>\n      <td>716335</td>\n      <td>716335</td>\n      <td>0</td>\n      <td>32.0</td>\n    </tr>\n    <tr>\n      <th>13</th>\n      <td>26956855</td>\n      <td>26956855</td>\n      <td>0</td>\n      <td>694.0</td>\n    </tr>\n    <tr>\n      <th>14</th>\n      <td>10422118</td>\n      <td>10422118</td>\n      <td>0</td>\n      <td>2.0</td>\n    </tr>\n    <tr>\n      <th>...</th>\n      <td>...</td>\n      <td>...</td>\n      <td>...</td>\n      <td>...</td>\n    </tr>\n    <tr>\n      <th>2579494</th>\n      <td>1000000</td>\n      <td>1000000</td>\n      <td>0</td>\n      <td>38.0</td>\n    </tr>\n    <tr>\n      <th>2579495</th>\n      <td>100000</td>\n      <td>100000</td>\n      <td>0</td>\n      <td>97.0</td>\n    </tr>\n    <tr>\n      <th>2579496</th>\n      <td>1088000000</td>\n      <td>1088000000</td>\n      <td>0</td>\n      <td>4.0</td>\n    </tr>\n    <tr>\n      <th>2579497</th>\n      <td>1000000</td>\n      <td>1000000</td>\n      <td>0</td>\n      <td>7.0</td>\n    </tr>\n    <tr>\n      <th>2579498</th>\n      <td>20000000</td>\n      <td>20000000</td>\n      <td>0</td>\n      <td>0.0</td>\n    </tr>\n  </tbody>\n</table>\n<p>1837180 rows × 4 columns</p>\n</div>"
     },
     "execution_count": 74,
     "metadata": {},
     "output_type": "execute_result"
    }
   ],
   "source": [
    "data1 = data[data['wltRemain'] > 0]\n",
    "data1"
   ],
   "metadata": {
    "collapsed": false,
    "ExecuteTime": {
     "end_time": "2024-07-22T07:25:16.150968800Z",
     "start_time": "2024-07-22T07:25:15.925911600Z"
    }
   },
   "id": "4d4937c973c238a9",
   "execution_count": 74
  },
  {
   "cell_type": "code",
   "outputs": [
    {
     "name": "stderr",
     "output_type": "stream",
     "text": [
      "C:\\Users\\erfan\\AppData\\Local\\Temp\\ipykernel_15256\\3279012885.py:1: SettingWithCopyWarning: \n",
      "A value is trying to be set on a copy of a slice from a DataFrame.\n",
      "Try using .loc[row_indexer,col_indexer] = value instead\n",
      "\n",
      "See the caveats in the documentation: https://pandas.pydata.org/pandas-docs/stable/user_guide/indexing.html#returning-a-view-versus-a-copy\n",
      "  data1['percent period'] = data1['periodChange'] / data1['wltRemain']\n"
     ]
    },
    {
     "data": {
      "text/plain": "         lastRemain   wltRemain  periodChange  withoutActionDays  \\\n7           5881453    62189184     -56307731                0.0   \n68          8226395    10750448      -2524053                1.0   \n236       301014499   308505043      -7490544                1.0   \n260          134508    35626145     -35491637                1.0   \n429       253933204   940700172    -686766968                0.0   \n...             ...         ...           ...                ...   \n2578915    52001820    52176659       -174839                0.0   \n2579157   182534212   320144831    -137610619                0.0   \n2579163    20765778   630763001    -609997223                0.0   \n2579258      603441  1603082187   -1602478746                0.0   \n2579303      135037     5220000      -5084963                0.0   \n\n         percent period  \n7             -0.905426  \n68            -0.234786  \n236           -0.024280  \n260           -0.996224  \n429           -0.730059  \n...                 ...  \n2578915       -0.003351  \n2579157       -0.429839  \n2579163       -0.967078  \n2579258       -0.999624  \n2579303       -0.974131  \n\n[132157 rows x 5 columns]",
      "text/html": "<div>\n<style scoped>\n    .dataframe tbody tr th:only-of-type {\n        vertical-align: middle;\n    }\n\n    .dataframe tbody tr th {\n        vertical-align: top;\n    }\n\n    .dataframe thead th {\n        text-align: right;\n    }\n</style>\n<table border=\"1\" class=\"dataframe\">\n  <thead>\n    <tr style=\"text-align: right;\">\n      <th></th>\n      <th>lastRemain</th>\n      <th>wltRemain</th>\n      <th>periodChange</th>\n      <th>withoutActionDays</th>\n      <th>percent period</th>\n    </tr>\n  </thead>\n  <tbody>\n    <tr>\n      <th>7</th>\n      <td>5881453</td>\n      <td>62189184</td>\n      <td>-56307731</td>\n      <td>0.0</td>\n      <td>-0.905426</td>\n    </tr>\n    <tr>\n      <th>68</th>\n      <td>8226395</td>\n      <td>10750448</td>\n      <td>-2524053</td>\n      <td>1.0</td>\n      <td>-0.234786</td>\n    </tr>\n    <tr>\n      <th>236</th>\n      <td>301014499</td>\n      <td>308505043</td>\n      <td>-7490544</td>\n      <td>1.0</td>\n      <td>-0.024280</td>\n    </tr>\n    <tr>\n      <th>260</th>\n      <td>134508</td>\n      <td>35626145</td>\n      <td>-35491637</td>\n      <td>1.0</td>\n      <td>-0.996224</td>\n    </tr>\n    <tr>\n      <th>429</th>\n      <td>253933204</td>\n      <td>940700172</td>\n      <td>-686766968</td>\n      <td>0.0</td>\n      <td>-0.730059</td>\n    </tr>\n    <tr>\n      <th>...</th>\n      <td>...</td>\n      <td>...</td>\n      <td>...</td>\n      <td>...</td>\n      <td>...</td>\n    </tr>\n    <tr>\n      <th>2578915</th>\n      <td>52001820</td>\n      <td>52176659</td>\n      <td>-174839</td>\n      <td>0.0</td>\n      <td>-0.003351</td>\n    </tr>\n    <tr>\n      <th>2579157</th>\n      <td>182534212</td>\n      <td>320144831</td>\n      <td>-137610619</td>\n      <td>0.0</td>\n      <td>-0.429839</td>\n    </tr>\n    <tr>\n      <th>2579163</th>\n      <td>20765778</td>\n      <td>630763001</td>\n      <td>-609997223</td>\n      <td>0.0</td>\n      <td>-0.967078</td>\n    </tr>\n    <tr>\n      <th>2579258</th>\n      <td>603441</td>\n      <td>1603082187</td>\n      <td>-1602478746</td>\n      <td>0.0</td>\n      <td>-0.999624</td>\n    </tr>\n    <tr>\n      <th>2579303</th>\n      <td>135037</td>\n      <td>5220000</td>\n      <td>-5084963</td>\n      <td>0.0</td>\n      <td>-0.974131</td>\n    </tr>\n  </tbody>\n</table>\n<p>132157 rows × 5 columns</p>\n</div>"
     },
     "execution_count": 75,
     "metadata": {},
     "output_type": "execute_result"
    }
   ],
   "source": [
    "data1['percent period'] = data1['periodChange'] / data1['wltRemain']\n",
    "dt = data1[data1['percent period'] < 0]\n",
    "mask = dt['percent period'] < -1\n",
    "dt.loc[mask, 'percent period'] = -1.00\n",
    "dt"
   ],
   "metadata": {
    "collapsed": false,
    "ExecuteTime": {
     "end_time": "2024-07-22T07:25:16.243829700Z",
     "start_time": "2024-07-22T07:25:16.017020Z"
    }
   },
   "id": "1d326f619c09857c",
   "execution_count": 75
  },
  {
   "cell_type": "code",
   "outputs": [
    {
     "name": "stderr",
     "output_type": "stream",
     "text": [
      "C:\\Users\\erfan\\AppData\\Local\\Temp\\ipykernel_15256\\651080451.py:2: SettingWithCopyWarning: \n",
      "A value is trying to be set on a copy of a slice from a DataFrame\n",
      "\n",
      "See the caveats in the documentation: https://pandas.pydata.org/pandas-docs/stable/user_guide/indexing.html#returning-a-view-versus-a-copy\n",
      "  dt.drop(labels='index', inplace=True,  axis=1)\n"
     ]
    },
    {
     "data": {
      "text/plain": "        lastRemain   wltRemain  periodChange  withoutActionDays  \\\n0          5881453    62189184     -56307731                0.0   \n1          8226395    10750448      -2524053                1.0   \n2        301014499   308505043      -7490544                1.0   \n3           134508    35626145     -35491637                1.0   \n4        253933204   940700172    -686766968                0.0   \n...            ...         ...           ...                ...   \n132152    52001820    52176659       -174839                0.0   \n132153   182534212   320144831    -137610619                0.0   \n132154    20765778   630763001    -609997223                0.0   \n132155      603441  1603082187   -1602478746                0.0   \n132156      135037     5220000      -5084963                0.0   \n\n        percent period  \n0            -0.905426  \n1            -0.234786  \n2            -0.024280  \n3            -0.996224  \n4            -0.730059  \n...                ...  \n132152       -0.003351  \n132153       -0.429839  \n132154       -0.967078  \n132155       -0.999624  \n132156       -0.974131  \n\n[132157 rows x 5 columns]",
      "text/html": "<div>\n<style scoped>\n    .dataframe tbody tr th:only-of-type {\n        vertical-align: middle;\n    }\n\n    .dataframe tbody tr th {\n        vertical-align: top;\n    }\n\n    .dataframe thead th {\n        text-align: right;\n    }\n</style>\n<table border=\"1\" class=\"dataframe\">\n  <thead>\n    <tr style=\"text-align: right;\">\n      <th></th>\n      <th>lastRemain</th>\n      <th>wltRemain</th>\n      <th>periodChange</th>\n      <th>withoutActionDays</th>\n      <th>percent period</th>\n    </tr>\n  </thead>\n  <tbody>\n    <tr>\n      <th>0</th>\n      <td>5881453</td>\n      <td>62189184</td>\n      <td>-56307731</td>\n      <td>0.0</td>\n      <td>-0.905426</td>\n    </tr>\n    <tr>\n      <th>1</th>\n      <td>8226395</td>\n      <td>10750448</td>\n      <td>-2524053</td>\n      <td>1.0</td>\n      <td>-0.234786</td>\n    </tr>\n    <tr>\n      <th>2</th>\n      <td>301014499</td>\n      <td>308505043</td>\n      <td>-7490544</td>\n      <td>1.0</td>\n      <td>-0.024280</td>\n    </tr>\n    <tr>\n      <th>3</th>\n      <td>134508</td>\n      <td>35626145</td>\n      <td>-35491637</td>\n      <td>1.0</td>\n      <td>-0.996224</td>\n    </tr>\n    <tr>\n      <th>4</th>\n      <td>253933204</td>\n      <td>940700172</td>\n      <td>-686766968</td>\n      <td>0.0</td>\n      <td>-0.730059</td>\n    </tr>\n    <tr>\n      <th>...</th>\n      <td>...</td>\n      <td>...</td>\n      <td>...</td>\n      <td>...</td>\n      <td>...</td>\n    </tr>\n    <tr>\n      <th>132152</th>\n      <td>52001820</td>\n      <td>52176659</td>\n      <td>-174839</td>\n      <td>0.0</td>\n      <td>-0.003351</td>\n    </tr>\n    <tr>\n      <th>132153</th>\n      <td>182534212</td>\n      <td>320144831</td>\n      <td>-137610619</td>\n      <td>0.0</td>\n      <td>-0.429839</td>\n    </tr>\n    <tr>\n      <th>132154</th>\n      <td>20765778</td>\n      <td>630763001</td>\n      <td>-609997223</td>\n      <td>0.0</td>\n      <td>-0.967078</td>\n    </tr>\n    <tr>\n      <th>132155</th>\n      <td>603441</td>\n      <td>1603082187</td>\n      <td>-1602478746</td>\n      <td>0.0</td>\n      <td>-0.999624</td>\n    </tr>\n    <tr>\n      <th>132156</th>\n      <td>135037</td>\n      <td>5220000</td>\n      <td>-5084963</td>\n      <td>0.0</td>\n      <td>-0.974131</td>\n    </tr>\n  </tbody>\n</table>\n<p>132157 rows × 5 columns</p>\n</div>"
     },
     "execution_count": 76,
     "metadata": {},
     "output_type": "execute_result"
    }
   ],
   "source": [
    "dt.reset_index(inplace=True)\n",
    "dt.drop(labels='index', inplace=True,  axis=1)\n",
    "dt"
   ],
   "metadata": {
    "collapsed": false,
    "ExecuteTime": {
     "end_time": "2024-07-22T07:25:16.246116700Z",
     "start_time": "2024-07-22T07:25:16.067371800Z"
    }
   },
   "id": "4447f8533d1a4adb",
   "execution_count": 76
  },
  {
   "cell_type": "code",
   "outputs": [
    {
     "data": {
      "text/plain": "array([[1.        , 0.73144161],\n       [0.73144161, 1.        ]])"
     },
     "execution_count": 77,
     "metadata": {},
     "output_type": "execute_result"
    }
   ],
   "source": [
    "np.corrcoef(dt['lastRemain'], dt['wltRemain'])"
   ],
   "metadata": {
    "collapsed": false,
    "ExecuteTime": {
     "end_time": "2024-07-22T07:25:16.347311100Z",
     "start_time": "2024-07-22T07:25:16.091716300Z"
    }
   },
   "id": "703f1dec657a83e1",
   "execution_count": 77
  },
  {
   "cell_type": "code",
   "outputs": [
    {
     "data": {
      "text/plain": "array([[ 1.        , -0.50263987],\n       [-0.50263987,  1.        ]])"
     },
     "execution_count": 78,
     "metadata": {},
     "output_type": "execute_result"
    }
   ],
   "source": [
    "np.corrcoef(dt['wltRemain'], dt['periodChange'])"
   ],
   "metadata": {
    "collapsed": false,
    "ExecuteTime": {
     "end_time": "2024-07-22T07:25:16.349626900Z",
     "start_time": "2024-07-22T07:25:16.104628200Z"
    }
   },
   "id": "82725dfb357cab80",
   "execution_count": 78
  },
  {
   "cell_type": "code",
   "outputs": [],
   "source": [
    "y = dt['wltRemain']\n",
    "x = dt[['periodChange', 'lastRemain']]"
   ],
   "metadata": {
    "collapsed": false,
    "ExecuteTime": {
     "end_time": "2024-07-22T07:25:16.349626900Z",
     "start_time": "2024-07-22T07:25:16.119754200Z"
    }
   },
   "id": "3e43828ea12f7266",
   "execution_count": 79
  },
  {
   "cell_type": "code",
   "outputs": [],
   "source": [
    "# plt.figure(figsize=(10, 6))\n",
    "# plt.scatter(dt['periodChange'], dt['wltRemain'], alpha=0.5)\n",
    "# plt.xlabel('Period Change')\n",
    "# plt.ylabel('WLT Remain')\n",
    "# plt.title('Scatter Plot of Period Change vs WLT Remain')\n",
    "# plt.grid(True)\n",
    "# \n",
    "# plt.figure(figsize=(10, 6))\n",
    "# plt.scatter(dt['lastRemain'], dt['wltRemain'], alpha=0.5)\n",
    "# plt.xlabel('Last Remain')\n",
    "# plt.ylabel('WLT Remain')\n",
    "# plt.title('Scatter Plot of Last Remain vs WLT Remain')\n",
    "# plt.grid(True)\n",
    "# \n",
    "# plt.show()"
   ],
   "metadata": {
    "collapsed": false,
    "ExecuteTime": {
     "end_time": "2024-07-22T07:25:16.350759700Z",
     "start_time": "2024-07-22T07:25:16.130096700Z"
    }
   },
   "id": "9a71338b581a1507",
   "execution_count": 80
  },
  {
   "cell_type": "code",
   "outputs": [],
   "source": [
    "x_train, x_test, y_train, y_test = train_test_split(x, y, test_size=0.2, random_state=11)"
   ],
   "metadata": {
    "collapsed": false,
    "ExecuteTime": {
     "end_time": "2024-07-22T07:25:16.385911100Z",
     "start_time": "2024-07-22T07:25:16.147552900Z"
    }
   },
   "id": "df2ec7270a5ffca8",
   "execution_count": 81
  },
  {
   "cell_type": "code",
   "outputs": [
    {
     "data": {
      "text/plain": "array([2.28723800e+06, 3.80315900e+06, 5.91035430e+07, ...,\n       4.21818830e+07, 1.02174292e+08, 1.08945700e+06])"
     },
     "execution_count": 82,
     "metadata": {},
     "output_type": "execute_result"
    }
   ],
   "source": [
    "reg = LinearRegression()\n",
    "reg.fit(x_train, y_train)\n",
    "predictions = reg.predict(x_test)\n",
    "predictions"
   ],
   "metadata": {
    "collapsed": false,
    "ExecuteTime": {
     "end_time": "2024-07-22T07:25:16.428368900Z",
     "start_time": "2024-07-22T07:25:16.165481100Z"
    }
   },
   "id": "ae5be216ce38f480",
   "execution_count": 82
  },
  {
   "cell_type": "code",
   "outputs": [],
   "source": [
    "from sklearn.metrics import mean_absolute_error, mean_squared_error, r2_score"
   ],
   "metadata": {
    "collapsed": false,
    "ExecuteTime": {
     "end_time": "2024-07-22T07:25:16.428368900Z",
     "start_time": "2024-07-22T07:25:16.187571Z"
    }
   },
   "id": "379ad0bbdd091f20",
   "execution_count": 83
  },
  {
   "cell_type": "code",
   "outputs": [
    {
     "name": "stdout",
     "output_type": "stream",
     "text": [
      "Mean Absolute Error: 7.842076132560743e-06\n",
      "Mean Squared Error: 5.729067285530691e-09\n",
      "R-squared: 1.0\n"
     ]
    }
   ],
   "source": [
    "mae = mean_absolute_error(y_test, predictions)\n",
    "mse = mean_squared_error(y_test, predictions)\n",
    "r2 = r2_score(y_test, predictions)\n",
    "\n",
    "print(f\"Mean Absolute Error: {mae}\")\n",
    "print(f\"Mean Squared Error: {mse}\")\n",
    "print(f\"R-squared: {r2}\")"
   ],
   "metadata": {
    "collapsed": false,
    "ExecuteTime": {
     "end_time": "2024-07-22T07:25:16.429482100Z",
     "start_time": "2024-07-22T07:25:16.194286900Z"
    }
   },
   "id": "f443825dd0074586",
   "execution_count": 84
  },
  {
   "cell_type": "code",
   "outputs": [
    {
     "data": {
      "text/plain": "<Figure size 1000x600 with 1 Axes>",
      "image/png": "[encoded data removed]"
     },
     "metadata": {},
     "output_type": "display_data"
    }
   ],
   "source": [
    "plt.figure(figsize=(10, 6))\n",
    "plt.scatter(y_test, predictions, color='blue')\n",
    "plt.plot([y_test.min(), y_test.max()], [y_test.min(), y_test.max()], 'k--', lw=3, label='Perfect Prediction')\n",
    "plt.xlabel('Actual Values')\n",
    "plt.ylabel('Predicted Values')\n",
    "plt.title('Actual vs. Predicted Values')\n",
    "plt.legend()\n",
    "plt.show()"
   ],
   "metadata": {
    "collapsed": false,
    "ExecuteTime": {
     "end_time": "2024-07-22T07:25:17.004847300Z",
     "start_time": "2024-07-22T07:25:16.204755Z"
    }
   },
   "id": "4c8e61479bf224a7",
   "execution_count": 85
  },
  {
   "cell_type": "code",
   "outputs": [],
   "source": [],
   "metadata": {
    "collapsed": false,
    "ExecuteTime": {
     "end_time": "2024-07-22T07:25:17.005983900Z",
     "start_time": "2024-07-22T07:25:16.633316400Z"
    }
   },
   "id": "508bfa6998ec201d",
   "execution_count": 85
  }
 ],
 "metadata": {
  "kernelspec": {
   "display_name": "Python 3",
   "language": "python",
   "name": "python3"
  },
  "language_info": {
   "codemirror_mode": {
    "name": "ipython",
    "version": 2
   },
   "file_extension": ".py",
   "mimetype": "text/x-python",
   "name": "python",
   "nbconvert_exporter": "python",
   "pygments_lexer": "ipython2",
   "version": "2.7.6"
  }
 },
 "nbformat": 4,
 "nbformat_minor": 5
}
