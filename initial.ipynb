{
 "cells": [
  {
   "cell_type": "code",
   "execution_count": 1,
   "id": "initial_id",
   "metadata": {
    "collapsed": true,
    "ExecuteTime": {
     "end_time": "2024-07-20T06:22:08.189842200Z",
     "start_time": "2024-07-20T06:22:05.708110500Z"
    }
   },
   "outputs": [],
   "source": [
    "import pandas as pd"
   ]
  },
  {
   "cell_type": "code",
   "outputs": [],
   "source": [
    "df1 = pd.read_csv('purchase.csv')\n",
    "df2 = pd.read_csv('purchase1.csv')\n",
    "df = pd.concat([df1,df2])"
   ],
   "metadata": {
    "collapsed": false,
    "ExecuteTime": {
     "end_time": "2024-07-20T06:28:17.130577800Z",
     "start_time": "2024-07-20T06:27:53.579440600Z"
    }
   },
   "id": "182501b98f0ea9a8",
   "execution_count": 4
  },
  {
   "cell_type": "code",
   "outputs": [
    {
     "data": {
      "text/plain": "         nationalCode  isPortfo        customerFullName bourseAccountName  \\\n0        164-008217-4         1       حشمتي شربياني رضا          prx03328   \n1        006-771639-3         1  شكري صومعه كبودين رقيه          prx04345   \n2        032-334800-9         1      رنج كش قاضي  اميد           prx06043   \n3        001-033142-5         1          آراسته  شراره           prx07836   \n4        003-385369-1         1             كتابي مسعود          prx13450   \n...               ...       ...                     ...               ...   \n1001523  031-227082-8         0             مبصر عليرضا       ع ش ك 60581   \n1001524  556-103700-5         0      حاجي زاده اميرحسين       ع ض ف 13813   \n1001525  428-585917-3         0              كريمي ناصر         كريـ68144   \n1001526  032-151934-5         0       فرخي خانقاه شاهرخ         فرخـ01935   \n1001527  448-992822-1         0        افخمي ميبدي حميد         افخـ01527   \n\n         totalAssetValue  creditAssetValue  marginAccountValue  \\\n0               54624134                 0                   0   \n1                      0                 0                   0   \n2               59726104          59726104            35835662   \n3                      0                 0                   0   \n4                      0                 0                   0   \n...                  ...               ...                 ...   \n1001523          1000000                 0                   0   \n1001524           100000                 0                   0   \n1001525       1088000000                 0                   0   \n1001526          1000000                 0                   0   \n1001527         20000000                 0                   0   \n\n         startingCredit  loanWithProfit   wltRemain  ...  withoutActionDays  \\\n0                   0.0               0      265634  ...               32.0   \n1                   0.0               0           0  ...              683.0   \n2                   0.0               0           0  ...               11.0   \n3                   0.0               0           0  ...               11.0   \n4                   0.0               0           0  ...              140.0   \n...                 ...             ...         ...  ...                ...   \n1001523             0.0               0     1000000  ...               38.0   \n1001524             0.0               0      100000  ...               97.0   \n1001525             0.0               0  1088000000  ...                4.0   \n1001526             0.0               0     1000000  ...                7.0   \n1001527             0.0               0    20000000  ...                0.0   \n\n         withoutActionBusinessDays  wltRemainToMarginAccount  \\\n0                               23                       NaN   \n1                              450                       NaN   \n2                                9                       0.0   \n3                                9                       NaN   \n4                               93                       NaN   \n...                            ...                       ...   \n1001523                         25                       NaN   \n1001524                         68                       NaN   \n1001525                          2                       NaN   \n1001526                          5                       NaN   \n1001527                          0                       NaN   \n\n         lastRemainToMarginAccount  lastTransactionDate           branchName  \\\n0                              NaN           1402/04/31                هویزه   \n1                              NaN           1400/07/17                هویزه   \n2                              0.0           1402/05/21                هویزه   \n3                              NaN           1402/05/21                هویزه   \n4                              NaN           1402/01/16               آرارات   \n...                            ...                  ...                  ...   \n1001523                        NaN           1402/09/22  کرج (بلوارامام رضا)   \n1001524                        NaN           1402/07/23            اسلام شهر   \n1001525                        NaN           1402/10/26            اسلام شهر   \n1001526                        NaN           1402/10/23              جمهوری    \n1001527                        NaN           1402/10/30              جمهوری    \n\n         warningCount  lastWarningDate  dbsAccountNumber  dlNumber  \n0                   0              NaN      7.646184e+09   1016964  \n1                   0              NaN      7.646188e+09   1016855  \n2                   0              NaN      7.646192e+09   1041717  \n3                   0              NaN      7.646196e+09   1041639  \n4                   0              NaN      7.646209e+09   1053970  \n...               ...              ...               ...       ...  \n1001523             0              NaN      7.649031e+13   1065661  \n1001524             0              NaN      7.649556e+13   1072075  \n1001525             0              NaN      7.649429e+13   1074961  \n1001526             0              NaN      7.649032e+13   1072558  \n1001527             0              NaN      7.649449e+13   1074338  \n\n[2579499 rows x 27 columns]",
      "text/html": "<div>\n<style scoped>\n    .dataframe tbody tr th:only-of-type {\n        vertical-align: middle;\n    }\n\n    .dataframe tbody tr th {\n        vertical-align: top;\n    }\n\n    .dataframe thead th {\n        text-align: right;\n    }\n</style>\n<table border=\"1\" class=\"dataframe\">\n  <thead>\n    <tr style=\"text-align: right;\">\n      <th></th>\n      <th>nationalCode</th>\n      <th>isPortfo</th>\n      <th>customerFullName</th>\n      <th>bourseAccountName</th>\n      <th>totalAssetValue</th>\n      <th>creditAssetValue</th>\n      <th>marginAccountValue</th>\n      <th>startingCredit</th>\n      <th>loanWithProfit</th>\n      <th>wltRemain</th>\n      <th>...</th>\n      <th>withoutActionDays</th>\n      <th>withoutActionBusinessDays</th>\n      <th>wltRemainToMarginAccount</th>\n      <th>lastRemainToMarginAccount</th>\n      <th>lastTransactionDate</th>\n      <th>branchName</th>\n      <th>warningCount</th>\n      <th>lastWarningDate</th>\n      <th>dbsAccountNumber</th>\n      <th>dlNumber</th>\n    </tr>\n  </thead>\n  <tbody>\n    <tr>\n      <th>0</th>\n      <td>164-008217-4</td>\n      <td>1</td>\n      <td>حشمتي شربياني رضا</td>\n      <td>prx03328</td>\n      <td>54624134</td>\n      <td>0</td>\n      <td>0</td>\n      <td>0.0</td>\n      <td>0</td>\n      <td>265634</td>\n      <td>...</td>\n      <td>32.0</td>\n      <td>23</td>\n      <td>NaN</td>\n      <td>NaN</td>\n      <td>1402/04/31</td>\n      <td>هویزه</td>\n      <td>0</td>\n      <td>NaN</td>\n      <td>7.646184e+09</td>\n      <td>1016964</td>\n    </tr>\n    <tr>\n      <th>1</th>\n      <td>006-771639-3</td>\n      <td>1</td>\n      <td>شكري صومعه كبودين رقيه</td>\n      <td>prx04345</td>\n      <td>0</td>\n      <td>0</td>\n      <td>0</td>\n      <td>0.0</td>\n      <td>0</td>\n      <td>0</td>\n      <td>...</td>\n      <td>683.0</td>\n      <td>450</td>\n      <td>NaN</td>\n      <td>NaN</td>\n      <td>1400/07/17</td>\n      <td>هویزه</td>\n      <td>0</td>\n      <td>NaN</td>\n      <td>7.646188e+09</td>\n      <td>1016855</td>\n    </tr>\n    <tr>\n      <th>2</th>\n      <td>032-334800-9</td>\n      <td>1</td>\n      <td>رنج كش قاضي  اميد</td>\n      <td>prx06043</td>\n      <td>59726104</td>\n      <td>59726104</td>\n      <td>35835662</td>\n      <td>0.0</td>\n      <td>0</td>\n      <td>0</td>\n      <td>...</td>\n      <td>11.0</td>\n      <td>9</td>\n      <td>0.0</td>\n      <td>0.0</td>\n      <td>1402/05/21</td>\n      <td>هویزه</td>\n      <td>0</td>\n      <td>NaN</td>\n      <td>7.646192e+09</td>\n      <td>1041717</td>\n    </tr>\n    <tr>\n      <th>3</th>\n      <td>001-033142-5</td>\n      <td>1</td>\n      <td>آراسته  شراره</td>\n      <td>prx07836</td>\n      <td>0</td>\n      <td>0</td>\n      <td>0</td>\n      <td>0.0</td>\n      <td>0</td>\n      <td>0</td>\n      <td>...</td>\n      <td>11.0</td>\n      <td>9</td>\n      <td>NaN</td>\n      <td>NaN</td>\n      <td>1402/05/21</td>\n      <td>هویزه</td>\n      <td>0</td>\n      <td>NaN</td>\n      <td>7.646196e+09</td>\n      <td>1041639</td>\n    </tr>\n    <tr>\n      <th>4</th>\n      <td>003-385369-1</td>\n      <td>1</td>\n      <td>كتابي مسعود</td>\n      <td>prx13450</td>\n      <td>0</td>\n      <td>0</td>\n      <td>0</td>\n      <td>0.0</td>\n      <td>0</td>\n      <td>0</td>\n      <td>...</td>\n      <td>140.0</td>\n      <td>93</td>\n      <td>NaN</td>\n      <td>NaN</td>\n      <td>1402/01/16</td>\n      <td>آرارات</td>\n      <td>0</td>\n      <td>NaN</td>\n      <td>7.646209e+09</td>\n      <td>1053970</td>\n    </tr>\n    <tr>\n      <th>...</th>\n      <td>...</td>\n      <td>...</td>\n      <td>...</td>\n      <td>...</td>\n      <td>...</td>\n      <td>...</td>\n      <td>...</td>\n      <td>...</td>\n      <td>...</td>\n      <td>...</td>\n      <td>...</td>\n      <td>...</td>\n      <td>...</td>\n      <td>...</td>\n      <td>...</td>\n      <td>...</td>\n      <td>...</td>\n      <td>...</td>\n      <td>...</td>\n      <td>...</td>\n      <td>...</td>\n    </tr>\n    <tr>\n      <th>1001523</th>\n      <td>031-227082-8</td>\n      <td>0</td>\n      <td>مبصر عليرضا</td>\n      <td>ع ش ك 60581</td>\n      <td>1000000</td>\n      <td>0</td>\n      <td>0</td>\n      <td>0.0</td>\n      <td>0</td>\n      <td>1000000</td>\n      <td>...</td>\n      <td>38.0</td>\n      <td>25</td>\n      <td>NaN</td>\n      <td>NaN</td>\n      <td>1402/09/22</td>\n      <td>کرج (بلوارامام رضا)</td>\n      <td>0</td>\n      <td>NaN</td>\n      <td>7.649031e+13</td>\n      <td>1065661</td>\n    </tr>\n    <tr>\n      <th>1001524</th>\n      <td>556-103700-5</td>\n      <td>0</td>\n      <td>حاجي زاده اميرحسين</td>\n      <td>ع ض ف 13813</td>\n      <td>100000</td>\n      <td>0</td>\n      <td>0</td>\n      <td>0.0</td>\n      <td>0</td>\n      <td>100000</td>\n      <td>...</td>\n      <td>97.0</td>\n      <td>68</td>\n      <td>NaN</td>\n      <td>NaN</td>\n      <td>1402/07/23</td>\n      <td>اسلام شهر</td>\n      <td>0</td>\n      <td>NaN</td>\n      <td>7.649556e+13</td>\n      <td>1072075</td>\n    </tr>\n    <tr>\n      <th>1001525</th>\n      <td>428-585917-3</td>\n      <td>0</td>\n      <td>كريمي ناصر</td>\n      <td>كريـ68144</td>\n      <td>1088000000</td>\n      <td>0</td>\n      <td>0</td>\n      <td>0.0</td>\n      <td>0</td>\n      <td>1088000000</td>\n      <td>...</td>\n      <td>4.0</td>\n      <td>2</td>\n      <td>NaN</td>\n      <td>NaN</td>\n      <td>1402/10/26</td>\n      <td>اسلام شهر</td>\n      <td>0</td>\n      <td>NaN</td>\n      <td>7.649429e+13</td>\n      <td>1074961</td>\n    </tr>\n    <tr>\n      <th>1001526</th>\n      <td>032-151934-5</td>\n      <td>0</td>\n      <td>فرخي خانقاه شاهرخ</td>\n      <td>فرخـ01935</td>\n      <td>1000000</td>\n      <td>0</td>\n      <td>0</td>\n      <td>0.0</td>\n      <td>0</td>\n      <td>1000000</td>\n      <td>...</td>\n      <td>7.0</td>\n      <td>5</td>\n      <td>NaN</td>\n      <td>NaN</td>\n      <td>1402/10/23</td>\n      <td>جمهوری</td>\n      <td>0</td>\n      <td>NaN</td>\n      <td>7.649032e+13</td>\n      <td>1072558</td>\n    </tr>\n    <tr>\n      <th>1001527</th>\n      <td>448-992822-1</td>\n      <td>0</td>\n      <td>افخمي ميبدي حميد</td>\n      <td>افخـ01527</td>\n      <td>20000000</td>\n      <td>0</td>\n      <td>0</td>\n      <td>0.0</td>\n      <td>0</td>\n      <td>20000000</td>\n      <td>...</td>\n      <td>0.0</td>\n      <td>0</td>\n      <td>NaN</td>\n      <td>NaN</td>\n      <td>1402/10/30</td>\n      <td>جمهوری</td>\n      <td>0</td>\n      <td>NaN</td>\n      <td>7.649449e+13</td>\n      <td>1074338</td>\n    </tr>\n  </tbody>\n</table>\n<p>2579499 rows × 27 columns</p>\n</div>"
     },
     "execution_count": 5,
     "metadata": {},
     "output_type": "execute_result"
    }
   ],
   "source": [
    "df"
   ],
   "metadata": {
    "collapsed": false,
    "ExecuteTime": {
     "end_time": "2024-07-20T06:28:24.763299300Z",
     "start_time": "2024-07-20T06:28:20.747554700Z"
    }
   },
   "id": "ff29f386fe2558d5",
   "execution_count": 5
  },
  {
   "cell_type": "code",
   "outputs": [],
   "source": [
    "df.to_csv('Final Dataset.csv', sep=',', index=False, encoding='utf-8')"
   ],
   "metadata": {
    "collapsed": false,
    "ExecuteTime": {
     "end_time": "2024-07-20T06:30:03.841257800Z",
     "start_time": "2024-07-20T06:29:32.000985800Z"
    }
   },
   "id": "589929e2132e0b08",
   "execution_count": 6
  },
  {
   "cell_type": "code",
   "outputs": [],
   "source": [],
   "metadata": {
    "collapsed": false
   },
   "id": "8dc46077d0b4a6b5"
  }
 ],
 "metadata": {
  "kernelspec": {
   "display_name": "Python 3",
   "language": "python",
   "name": "python3"
  },
  "language_info": {
   "codemirror_mode": {
    "name": "ipython",
    "version": 2
   },
   "file_extension": ".py",
   "mimetype": "text/x-python",
   "name": "python",
   "nbconvert_exporter": "python",
   "pygments_lexer": "ipython2",
   "version": "2.7.6"
  }
 },
 "nbformat": 4,
 "nbformat_minor": 5
}
