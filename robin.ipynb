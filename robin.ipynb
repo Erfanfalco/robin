{
 "cells": [
  {
   "cell_type": "code",
   "execution_count": 2,
   "id": "initial_id",
   "metadata": {
    "ExecuteTime": {
     "end_time": "2024-07-09T12:35:05.045132600Z",
     "start_time": "2024-07-09T12:35:03.849239200Z"
    }
   },
   "outputs": [],
   "source": [
    "import pandas as pd\n",
    "import datetime\n",
    "import jdatetime as jd"
   ]
  },
  {
   "cell_type": "code",
   "execution_count": 3,
   "id": "686063d0808b878f",
   "metadata": {
    "collapsed": false,
    "ExecuteTime": {
     "end_time": "2024-07-09T12:35:05.474707500Z",
     "start_time": "2024-07-09T12:35:05.049497100Z"
    }
   },
   "outputs": [
    {
     "data": {
      "text/plain": "0        {'id': 296545723, 'requestNumber': 99, 'creati...\n1        {'id': 296525406, 'requestNumber': 1372, 'crea...\n2        {'id': 296525409, 'requestNumber': 1373, 'crea...\n3        {'id': 296544602, 'requestNumber': 1374, 'crea...\n4        {'id': 296544605, 'requestNumber': 1375, 'crea...\n                               ...                        \n29755    {'id': 339598439, 'requestNumber': 34653, 'cre...\n29756    {'id': 339598523, 'requestNumber': 34654, 'cre...\n29757    {'id': 339599294, 'requestNumber': 34655, 'cre...\n29758    {'id': 339599675, 'requestNumber': 34656, 'cre...\n29759    {'id': 339600076, 'requestNumber': 34657, 'cre...\nName: result, Length: 29760, dtype: object"
     },
     "execution_count": 3,
     "metadata": {},
     "output_type": "execute_result"
    }
   ],
   "source": [
    "datas = pd.read_json('response1.json')\n",
    "datas['result']"
   ]
  },
  {
   "cell_type": "code",
   "outputs": [
    {
     "data": {
      "text/plain": "      creationDate paymentRequestDate  requestAmount\n0       1402/05/30         1402/06/01        4777240\n1       1402/05/30         1402/06/01      500000000\n2       1402/05/30         1402/06/01      140752404\n3       1402/05/30         1402/06/01      500000000\n4       1402/05/30         1402/06/01      290847290\n...            ...                ...            ...\n29755   1403/03/27         1403/03/27       53815533\n29756   1403/03/27         1403/03/27       50000000\n29757   1403/03/27         1403/03/27       47140000\n29758   1403/03/27         1403/03/27       76500000\n29759   1403/03/27         1403/03/27       55000000\n\n[29760 rows x 3 columns]",
      "text/html": "<div>\n<style scoped>\n    .dataframe tbody tr th:only-of-type {\n        vertical-align: middle;\n    }\n\n    .dataframe tbody tr th {\n        vertical-align: top;\n    }\n\n    .dataframe thead th {\n        text-align: right;\n    }\n</style>\n<table border=\"1\" class=\"dataframe\">\n  <thead>\n    <tr style=\"text-align: right;\">\n      <th></th>\n      <th>creationDate</th>\n      <th>paymentRequestDate</th>\n      <th>requestAmount</th>\n    </tr>\n  </thead>\n  <tbody>\n    <tr>\n      <th>0</th>\n      <td>1402/05/30</td>\n      <td>1402/06/01</td>\n      <td>4777240</td>\n    </tr>\n    <tr>\n      <th>1</th>\n      <td>1402/05/30</td>\n      <td>1402/06/01</td>\n      <td>500000000</td>\n    </tr>\n    <tr>\n      <th>2</th>\n      <td>1402/05/30</td>\n      <td>1402/06/01</td>\n      <td>140752404</td>\n    </tr>\n    <tr>\n      <th>3</th>\n      <td>1402/05/30</td>\n      <td>1402/06/01</td>\n      <td>500000000</td>\n    </tr>\n    <tr>\n      <th>4</th>\n      <td>1402/05/30</td>\n      <td>1402/06/01</td>\n      <td>290847290</td>\n    </tr>\n    <tr>\n      <th>...</th>\n      <td>...</td>\n      <td>...</td>\n      <td>...</td>\n    </tr>\n    <tr>\n      <th>29755</th>\n      <td>1403/03/27</td>\n      <td>1403/03/27</td>\n      <td>53815533</td>\n    </tr>\n    <tr>\n      <th>29756</th>\n      <td>1403/03/27</td>\n      <td>1403/03/27</td>\n      <td>50000000</td>\n    </tr>\n    <tr>\n      <th>29757</th>\n      <td>1403/03/27</td>\n      <td>1403/03/27</td>\n      <td>47140000</td>\n    </tr>\n    <tr>\n      <th>29758</th>\n      <td>1403/03/27</td>\n      <td>1403/03/27</td>\n      <td>76500000</td>\n    </tr>\n    <tr>\n      <th>29759</th>\n      <td>1403/03/27</td>\n      <td>1403/03/27</td>\n      <td>55000000</td>\n    </tr>\n  </tbody>\n</table>\n<p>29760 rows × 3 columns</p>\n</div>"
     },
     "execution_count": 4,
     "metadata": {},
     "output_type": "execute_result"
    }
   ],
   "source": [
    "chosen_keys = ['creationDate','paymentRequestDate','requestAmount']\n",
    "df = pd.json_normalize(datas['result'])\n",
    "df = df[chosen_keys]\n",
    "df"
   ],
   "metadata": {
    "collapsed": false,
    "ExecuteTime": {
     "end_time": "2024-07-09T12:35:05.914573100Z",
     "start_time": "2024-07-09T12:35:05.473707600Z"
    }
   },
   "id": "dcdc66ca62e9f3e1",
   "execution_count": 4
  },
  {
   "cell_type": "code",
   "outputs": [
    {
     "data": {
      "text/plain": "      creationDate paymentRequestDate  requestAmount\n0       1402/05/30         1402/06/01        4777240\n1       1402/05/30         1402/06/01      500000000\n2       1402/05/30         1402/06/01      140752404\n3       1402/05/30         1402/06/01      500000000\n4       1402/05/30         1402/06/01      290847290\n...            ...                ...            ...\n29755   1403/03/27         1403/03/27       53815533\n29756   1403/03/27         1403/03/27       50000000\n29757   1403/03/27         1403/03/27       47140000\n29758   1403/03/27         1403/03/27       76500000\n29759   1403/03/27         1403/03/27       55000000\n\n[29760 rows x 3 columns]",
      "text/html": "<div>\n<style scoped>\n    .dataframe tbody tr th:only-of-type {\n        vertical-align: middle;\n    }\n\n    .dataframe tbody tr th {\n        vertical-align: top;\n    }\n\n    .dataframe thead th {\n        text-align: right;\n    }\n</style>\n<table border=\"1\" class=\"dataframe\">\n  <thead>\n    <tr style=\"text-align: right;\">\n      <th></th>\n      <th>creationDate</th>\n      <th>paymentRequestDate</th>\n      <th>requestAmount</th>\n    </tr>\n  </thead>\n  <tbody>\n    <tr>\n      <th>0</th>\n      <td>1402/05/30</td>\n      <td>1402/06/01</td>\n      <td>4777240</td>\n    </tr>\n    <tr>\n      <th>1</th>\n      <td>1402/05/30</td>\n      <td>1402/06/01</td>\n      <td>500000000</td>\n    </tr>\n    <tr>\n      <th>2</th>\n      <td>1402/05/30</td>\n      <td>1402/06/01</td>\n      <td>140752404</td>\n    </tr>\n    <tr>\n      <th>3</th>\n      <td>1402/05/30</td>\n      <td>1402/06/01</td>\n      <td>500000000</td>\n    </tr>\n    <tr>\n      <th>4</th>\n      <td>1402/05/30</td>\n      <td>1402/06/01</td>\n      <td>290847290</td>\n    </tr>\n    <tr>\n      <th>...</th>\n      <td>...</td>\n      <td>...</td>\n      <td>...</td>\n    </tr>\n    <tr>\n      <th>29755</th>\n      <td>1403/03/27</td>\n      <td>1403/03/27</td>\n      <td>53815533</td>\n    </tr>\n    <tr>\n      <th>29756</th>\n      <td>1403/03/27</td>\n      <td>1403/03/27</td>\n      <td>50000000</td>\n    </tr>\n    <tr>\n      <th>29757</th>\n      <td>1403/03/27</td>\n      <td>1403/03/27</td>\n      <td>47140000</td>\n    </tr>\n    <tr>\n      <th>29758</th>\n      <td>1403/03/27</td>\n      <td>1403/03/27</td>\n      <td>76500000</td>\n    </tr>\n    <tr>\n      <th>29759</th>\n      <td>1403/03/27</td>\n      <td>1403/03/27</td>\n      <td>55000000</td>\n    </tr>\n  </tbody>\n</table>\n<p>29760 rows × 3 columns</p>\n</div>"
     },
     "execution_count": 5,
     "metadata": {},
     "output_type": "execute_result"
    }
   ],
   "source": [
    "df['creationDate'] = df['creationDate'].astype(str)\n",
    "df['paymentRequestDate'] = df['paymentRequestDate'].astype(str)\n",
    "df"
   ],
   "metadata": {
    "collapsed": false,
    "ExecuteTime": {
     "end_time": "2024-07-09T12:35:05.932452700Z",
     "start_time": "2024-07-09T12:35:05.902049Z"
    }
   },
   "id": "6f25e373cf23e574",
   "execution_count": 5
  },
  {
   "cell_type": "code",
   "outputs": [],
   "source": [
    "df['paymentRequestDate'] = df['paymentRequestDate'].apply(lambda x : x.split('/'))\n",
    "df['creationDate'] = df['creationDate'].apply(lambda x : x.split('/'))"
   ],
   "metadata": {
    "collapsed": false,
    "ExecuteTime": {
     "end_time": "2024-07-09T12:35:06.252756300Z",
     "start_time": "2024-07-09T12:35:05.931383300Z"
    }
   },
   "id": "76560c8e1125fbf4",
   "execution_count": 6
  },
  {
   "cell_type": "code",
   "outputs": [
    {
     "data": {
      "text/plain": "         creationDate paymentRequestDate  requestAmount\n0      [1402, 05, 30]     [1402, 06, 01]        4777240\n1      [1402, 05, 30]     [1402, 06, 01]      500000000\n2      [1402, 05, 30]     [1402, 06, 01]      140752404\n3      [1402, 05, 30]     [1402, 06, 01]      500000000\n4      [1402, 05, 30]     [1402, 06, 01]      290847290\n...               ...                ...            ...\n29755  [1403, 03, 27]     [1403, 03, 27]       53815533\n29756  [1403, 03, 27]     [1403, 03, 27]       50000000\n29757  [1403, 03, 27]     [1403, 03, 27]       47140000\n29758  [1403, 03, 27]     [1403, 03, 27]       76500000\n29759  [1403, 03, 27]     [1403, 03, 27]       55000000\n\n[29760 rows x 3 columns]",
      "text/html": "<div>\n<style scoped>\n    .dataframe tbody tr th:only-of-type {\n        vertical-align: middle;\n    }\n\n    .dataframe tbody tr th {\n        vertical-align: top;\n    }\n\n    .dataframe thead th {\n        text-align: right;\n    }\n</style>\n<table border=\"1\" class=\"dataframe\">\n  <thead>\n    <tr style=\"text-align: right;\">\n      <th></th>\n      <th>creationDate</th>\n      <th>paymentRequestDate</th>\n      <th>requestAmount</th>\n    </tr>\n  </thead>\n  <tbody>\n    <tr>\n      <th>0</th>\n      <td>[1402, 05, 30]</td>\n      <td>[1402, 06, 01]</td>\n      <td>4777240</td>\n    </tr>\n    <tr>\n      <th>1</th>\n      <td>[1402, 05, 30]</td>\n      <td>[1402, 06, 01]</td>\n      <td>500000000</td>\n    </tr>\n    <tr>\n      <th>2</th>\n      <td>[1402, 05, 30]</td>\n      <td>[1402, 06, 01]</td>\n      <td>140752404</td>\n    </tr>\n    <tr>\n      <th>3</th>\n      <td>[1402, 05, 30]</td>\n      <td>[1402, 06, 01]</td>\n      <td>500000000</td>\n    </tr>\n    <tr>\n      <th>4</th>\n      <td>[1402, 05, 30]</td>\n      <td>[1402, 06, 01]</td>\n      <td>290847290</td>\n    </tr>\n    <tr>\n      <th>...</th>\n      <td>...</td>\n      <td>...</td>\n      <td>...</td>\n    </tr>\n    <tr>\n      <th>29755</th>\n      <td>[1403, 03, 27]</td>\n      <td>[1403, 03, 27]</td>\n      <td>53815533</td>\n    </tr>\n    <tr>\n      <th>29756</th>\n      <td>[1403, 03, 27]</td>\n      <td>[1403, 03, 27]</td>\n      <td>50000000</td>\n    </tr>\n    <tr>\n      <th>29757</th>\n      <td>[1403, 03, 27]</td>\n      <td>[1403, 03, 27]</td>\n      <td>47140000</td>\n    </tr>\n    <tr>\n      <th>29758</th>\n      <td>[1403, 03, 27]</td>\n      <td>[1403, 03, 27]</td>\n      <td>76500000</td>\n    </tr>\n    <tr>\n      <th>29759</th>\n      <td>[1403, 03, 27]</td>\n      <td>[1403, 03, 27]</td>\n      <td>55000000</td>\n    </tr>\n  </tbody>\n</table>\n<p>29760 rows × 3 columns</p>\n</div>"
     },
     "execution_count": 7,
     "metadata": {},
     "output_type": "execute_result"
    }
   ],
   "source": [
    "df"
   ],
   "metadata": {
    "collapsed": false,
    "ExecuteTime": {
     "end_time": "2024-07-09T12:35:06.321095400Z",
     "start_time": "2024-07-09T12:35:06.062493900Z"
    }
   },
   "id": "6681455454a3955d",
   "execution_count": 7
  },
  {
   "cell_type": "code",
   "outputs": [
    {
     "data": {
      "text/plain": "        creationDate paymentRequestDate  requestAmount\n0      [1402, 5, 30]       [1402, 6, 1]        4777240\n1      [1402, 5, 30]       [1402, 6, 1]      500000000\n2      [1402, 5, 30]       [1402, 6, 1]      140752404\n3      [1402, 5, 30]       [1402, 6, 1]      500000000\n4      [1402, 5, 30]       [1402, 6, 1]      290847290\n...              ...                ...            ...\n29755  [1403, 3, 27]      [1403, 3, 27]       53815533\n29756  [1403, 3, 27]      [1403, 3, 27]       50000000\n29757  [1403, 3, 27]      [1403, 3, 27]       47140000\n29758  [1403, 3, 27]      [1403, 3, 27]       76500000\n29759  [1403, 3, 27]      [1403, 3, 27]       55000000\n\n[29760 rows x 3 columns]",
      "text/html": "<div>\n<style scoped>\n    .dataframe tbody tr th:only-of-type {\n        vertical-align: middle;\n    }\n\n    .dataframe tbody tr th {\n        vertical-align: top;\n    }\n\n    .dataframe thead th {\n        text-align: right;\n    }\n</style>\n<table border=\"1\" class=\"dataframe\">\n  <thead>\n    <tr style=\"text-align: right;\">\n      <th></th>\n      <th>creationDate</th>\n      <th>paymentRequestDate</th>\n      <th>requestAmount</th>\n    </tr>\n  </thead>\n  <tbody>\n    <tr>\n      <th>0</th>\n      <td>[1402, 5, 30]</td>\n      <td>[1402, 6, 1]</td>\n      <td>4777240</td>\n    </tr>\n    <tr>\n      <th>1</th>\n      <td>[1402, 5, 30]</td>\n      <td>[1402, 6, 1]</td>\n      <td>500000000</td>\n    </tr>\n    <tr>\n      <th>2</th>\n      <td>[1402, 5, 30]</td>\n      <td>[1402, 6, 1]</td>\n      <td>140752404</td>\n    </tr>\n    <tr>\n      <th>3</th>\n      <td>[1402, 5, 30]</td>\n      <td>[1402, 6, 1]</td>\n      <td>500000000</td>\n    </tr>\n    <tr>\n      <th>4</th>\n      <td>[1402, 5, 30]</td>\n      <td>[1402, 6, 1]</td>\n      <td>290847290</td>\n    </tr>\n    <tr>\n      <th>...</th>\n      <td>...</td>\n      <td>...</td>\n      <td>...</td>\n    </tr>\n    <tr>\n      <th>29755</th>\n      <td>[1403, 3, 27]</td>\n      <td>[1403, 3, 27]</td>\n      <td>53815533</td>\n    </tr>\n    <tr>\n      <th>29756</th>\n      <td>[1403, 3, 27]</td>\n      <td>[1403, 3, 27]</td>\n      <td>50000000</td>\n    </tr>\n    <tr>\n      <th>29757</th>\n      <td>[1403, 3, 27]</td>\n      <td>[1403, 3, 27]</td>\n      <td>47140000</td>\n    </tr>\n    <tr>\n      <th>29758</th>\n      <td>[1403, 3, 27]</td>\n      <td>[1403, 3, 27]</td>\n      <td>76500000</td>\n    </tr>\n    <tr>\n      <th>29759</th>\n      <td>[1403, 3, 27]</td>\n      <td>[1403, 3, 27]</td>\n      <td>55000000</td>\n    </tr>\n  </tbody>\n</table>\n<p>29760 rows × 3 columns</p>\n</div>"
     },
     "execution_count": 8,
     "metadata": {},
     "output_type": "execute_result"
    }
   ],
   "source": [
    "df2 = df.copy()\n",
    "df2['paymentRequestDate'] = [list(map(int, sublist)) for sublist in df2['paymentRequestDate']]\n",
    "df2['creationDate'] = [list(map(int, sublist)) for sublist in df2['creationDate']]\n",
    "df2"
   ],
   "metadata": {
    "collapsed": false,
    "ExecuteTime": {
     "end_time": "2024-07-09T12:35:06.422732400Z",
     "start_time": "2024-07-09T12:35:06.080243800Z"
    }
   },
   "id": "1d5cd14872afece8",
   "execution_count": 8
  },
  {
   "cell_type": "code",
   "outputs": [],
   "source": [
    "def format_date(data, col):    \n",
    "    for index, row in data.iterrows():\n",
    "            year = int(row[col][0])  # Extract year as integer\n",
    "            month = int(row[col][1])  # Extract month as integer\n",
    "            day = int(row[col][2])  # Extract day as integer\n",
    "            # Create a datetime object using jdatetime\n",
    "            if month == 12 and day > 29:  # February has at most 29 days\n",
    "                continue\n",
    "                \n",
    "            dt = jd.datetime(year=year, month=month, day=day).date()\n",
    "            \n",
    "            # Assign the datetime object to a new column or overwrite the existing one\n",
    "            data.at[index, col] = dt"
   ],
   "metadata": {
    "collapsed": false,
    "ExecuteTime": {
     "end_time": "2024-07-09T12:35:06.423886800Z",
     "start_time": "2024-07-09T12:35:06.182893100Z"
    }
   },
   "id": "6f85e34f261538d0",
   "execution_count": 9
  },
  {
   "cell_type": "code",
   "outputs": [
    {
     "data": {
      "text/plain": "      creationDate paymentRequestDate  requestAmount\n0       1402-05-30         1402-06-01        4777240\n1       1402-05-30         1402-06-01      500000000\n2       1402-05-30         1402-06-01      140752404\n3       1402-05-30         1402-06-01      500000000\n4       1402-05-30         1402-06-01      290847290\n...            ...                ...            ...\n29755   1403-03-27         1403-03-27       53815533\n29756   1403-03-27         1403-03-27       50000000\n29757   1403-03-27         1403-03-27       47140000\n29758   1403-03-27         1403-03-27       76500000\n29759   1403-03-27         1403-03-27       55000000\n\n[29760 rows x 3 columns]",
      "text/html": "<div>\n<style scoped>\n    .dataframe tbody tr th:only-of-type {\n        vertical-align: middle;\n    }\n\n    .dataframe tbody tr th {\n        vertical-align: top;\n    }\n\n    .dataframe thead th {\n        text-align: right;\n    }\n</style>\n<table border=\"1\" class=\"dataframe\">\n  <thead>\n    <tr style=\"text-align: right;\">\n      <th></th>\n      <th>creationDate</th>\n      <th>paymentRequestDate</th>\n      <th>requestAmount</th>\n    </tr>\n  </thead>\n  <tbody>\n    <tr>\n      <th>0</th>\n      <td>1402-05-30</td>\n      <td>1402-06-01</td>\n      <td>4777240</td>\n    </tr>\n    <tr>\n      <th>1</th>\n      <td>1402-05-30</td>\n      <td>1402-06-01</td>\n      <td>500000000</td>\n    </tr>\n    <tr>\n      <th>2</th>\n      <td>1402-05-30</td>\n      <td>1402-06-01</td>\n      <td>140752404</td>\n    </tr>\n    <tr>\n      <th>3</th>\n      <td>1402-05-30</td>\n      <td>1402-06-01</td>\n      <td>500000000</td>\n    </tr>\n    <tr>\n      <th>4</th>\n      <td>1402-05-30</td>\n      <td>1402-06-01</td>\n      <td>290847290</td>\n    </tr>\n    <tr>\n      <th>...</th>\n      <td>...</td>\n      <td>...</td>\n      <td>...</td>\n    </tr>\n    <tr>\n      <th>29755</th>\n      <td>1403-03-27</td>\n      <td>1403-03-27</td>\n      <td>53815533</td>\n    </tr>\n    <tr>\n      <th>29756</th>\n      <td>1403-03-27</td>\n      <td>1403-03-27</td>\n      <td>50000000</td>\n    </tr>\n    <tr>\n      <th>29757</th>\n      <td>1403-03-27</td>\n      <td>1403-03-27</td>\n      <td>47140000</td>\n    </tr>\n    <tr>\n      <th>29758</th>\n      <td>1403-03-27</td>\n      <td>1403-03-27</td>\n      <td>76500000</td>\n    </tr>\n    <tr>\n      <th>29759</th>\n      <td>1403-03-27</td>\n      <td>1403-03-27</td>\n      <td>55000000</td>\n    </tr>\n  </tbody>\n</table>\n<p>29760 rows × 3 columns</p>\n</div>"
     },
     "execution_count": 10,
     "metadata": {},
     "output_type": "execute_result"
    }
   ],
   "source": [
    "format_date(df2, 'paymentRequestDate')\n",
    "format_date(df2, 'creationDate')\n",
    "df2"
   ],
   "metadata": {
    "collapsed": false,
    "ExecuteTime": {
     "end_time": "2024-07-09T12:35:13.333612Z",
     "start_time": "2024-07-09T12:35:06.191816400Z"
    }
   },
   "id": "8f2c6449ed54ea62",
   "execution_count": 10
  },
  {
   "cell_type": "code",
   "outputs": [
    {
     "data": {
      "text/plain": "      creationDate paymentRequestDate  requestAmount\n0       1402-05-30         1402-06-01        4777240\n1       1402-05-30         1402-06-01      500000000\n2       1402-05-30         1402-06-01      140752404\n3       1402-05-30         1402-06-01      500000000\n4       1402-05-30         1402-06-01      290847290\n...            ...                ...            ...\n29755   1403-03-27         1403-03-27       53815533\n29756   1403-03-27         1403-03-27       50000000\n29757   1403-03-27         1403-03-27       47140000\n29758   1403-03-27         1403-03-27       76500000\n29759   1403-03-27         1403-03-27       55000000\n\n[29760 rows x 3 columns]",
      "text/html": "<div>\n<style scoped>\n    .dataframe tbody tr th:only-of-type {\n        vertical-align: middle;\n    }\n\n    .dataframe tbody tr th {\n        vertical-align: top;\n    }\n\n    .dataframe thead th {\n        text-align: right;\n    }\n</style>\n<table border=\"1\" class=\"dataframe\">\n  <thead>\n    <tr style=\"text-align: right;\">\n      <th></th>\n      <th>creationDate</th>\n      <th>paymentRequestDate</th>\n      <th>requestAmount</th>\n    </tr>\n  </thead>\n  <tbody>\n    <tr>\n      <th>0</th>\n      <td>1402-05-30</td>\n      <td>1402-06-01</td>\n      <td>4777240</td>\n    </tr>\n    <tr>\n      <th>1</th>\n      <td>1402-05-30</td>\n      <td>1402-06-01</td>\n      <td>500000000</td>\n    </tr>\n    <tr>\n      <th>2</th>\n      <td>1402-05-30</td>\n      <td>1402-06-01</td>\n      <td>140752404</td>\n    </tr>\n    <tr>\n      <th>3</th>\n      <td>1402-05-30</td>\n      <td>1402-06-01</td>\n      <td>500000000</td>\n    </tr>\n    <tr>\n      <th>4</th>\n      <td>1402-05-30</td>\n      <td>1402-06-01</td>\n      <td>290847290</td>\n    </tr>\n    <tr>\n      <th>...</th>\n      <td>...</td>\n      <td>...</td>\n      <td>...</td>\n    </tr>\n    <tr>\n      <th>29755</th>\n      <td>1403-03-27</td>\n      <td>1403-03-27</td>\n      <td>53815533</td>\n    </tr>\n    <tr>\n      <th>29756</th>\n      <td>1403-03-27</td>\n      <td>1403-03-27</td>\n      <td>50000000</td>\n    </tr>\n    <tr>\n      <th>29757</th>\n      <td>1403-03-27</td>\n      <td>1403-03-27</td>\n      <td>47140000</td>\n    </tr>\n    <tr>\n      <th>29758</th>\n      <td>1403-03-27</td>\n      <td>1403-03-27</td>\n      <td>76500000</td>\n    </tr>\n    <tr>\n      <th>29759</th>\n      <td>1403-03-27</td>\n      <td>1403-03-27</td>\n      <td>55000000</td>\n    </tr>\n  </tbody>\n</table>\n<p>29760 rows × 3 columns</p>\n</div>"
     },
     "execution_count": 11,
     "metadata": {},
     "output_type": "execute_result"
    }
   ],
   "source": [
    "data_set = df2.copy()\n",
    "data_set"
   ],
   "metadata": {
    "collapsed": false,
    "ExecuteTime": {
     "end_time": "2024-07-09T12:35:13.392847100Z",
     "start_time": "2024-07-09T12:35:13.336989200Z"
    }
   },
   "id": "a0741af31dbb66f8",
   "execution_count": 11
  },
  {
   "cell_type": "code",
   "outputs": [
    {
     "data": {
      "text/plain": "      creationDate paymentRequestDate  requestAmount\n0       1402-05-30         1402-06-01        4777240\n1       1402-05-30         1402-06-01      500000000\n2       1402-05-30         1402-06-01      140752404\n3       1402-05-30         1402-06-01      500000000\n4       1402-05-30         1402-06-01      290847290\n...            ...                ...            ...\n29755   1403-03-27         1403-03-27       53815533\n29756   1403-03-27         1403-03-27       50000000\n29757   1403-03-27         1403-03-27       47140000\n29758   1403-03-27         1403-03-27       76500000\n29759   1403-03-27         1403-03-27       55000000\n\n[29760 rows x 3 columns]",
      "text/html": "<div>\n<style scoped>\n    .dataframe tbody tr th:only-of-type {\n        vertical-align: middle;\n    }\n\n    .dataframe tbody tr th {\n        vertical-align: top;\n    }\n\n    .dataframe thead th {\n        text-align: right;\n    }\n</style>\n<table border=\"1\" class=\"dataframe\">\n  <thead>\n    <tr style=\"text-align: right;\">\n      <th></th>\n      <th>creationDate</th>\n      <th>paymentRequestDate</th>\n      <th>requestAmount</th>\n    </tr>\n  </thead>\n  <tbody>\n    <tr>\n      <th>0</th>\n      <td>1402-05-30</td>\n      <td>1402-06-01</td>\n      <td>4777240</td>\n    </tr>\n    <tr>\n      <th>1</th>\n      <td>1402-05-30</td>\n      <td>1402-06-01</td>\n      <td>500000000</td>\n    </tr>\n    <tr>\n      <th>2</th>\n      <td>1402-05-30</td>\n      <td>1402-06-01</td>\n      <td>140752404</td>\n    </tr>\n    <tr>\n      <th>3</th>\n      <td>1402-05-30</td>\n      <td>1402-06-01</td>\n      <td>500000000</td>\n    </tr>\n    <tr>\n      <th>4</th>\n      <td>1402-05-30</td>\n      <td>1402-06-01</td>\n      <td>290847290</td>\n    </tr>\n    <tr>\n      <th>...</th>\n      <td>...</td>\n      <td>...</td>\n      <td>...</td>\n    </tr>\n    <tr>\n      <th>29755</th>\n      <td>1403-03-27</td>\n      <td>1403-03-27</td>\n      <td>53815533</td>\n    </tr>\n    <tr>\n      <th>29756</th>\n      <td>1403-03-27</td>\n      <td>1403-03-27</td>\n      <td>50000000</td>\n    </tr>\n    <tr>\n      <th>29757</th>\n      <td>1403-03-27</td>\n      <td>1403-03-27</td>\n      <td>47140000</td>\n    </tr>\n    <tr>\n      <th>29758</th>\n      <td>1403-03-27</td>\n      <td>1403-03-27</td>\n      <td>76500000</td>\n    </tr>\n    <tr>\n      <th>29759</th>\n      <td>1403-03-27</td>\n      <td>1403-03-27</td>\n      <td>55000000</td>\n    </tr>\n  </tbody>\n</table>\n<p>29760 rows × 3 columns</p>\n</div>"
     },
     "execution_count": 12,
     "metadata": {},
     "output_type": "execute_result"
    }
   ],
   "source": [
    "Dataframe = pd.DataFrame(data_set)\n",
    "Dataframe"
   ],
   "metadata": {
    "collapsed": false,
    "ExecuteTime": {
     "end_time": "2024-07-09T12:35:13.395107300Z",
     "start_time": "2024-07-09T12:35:13.357431500Z"
    }
   },
   "id": "da8aa8808c6d4265",
   "execution_count": 12
  },
  {
   "cell_type": "code",
   "outputs": [],
   "source": [
    "Dataframe.to_csv('Dataframe.csv', sep=',', index=False, encoding='utf-8')"
   ],
   "metadata": {
    "collapsed": false,
    "ExecuteTime": {
     "end_time": "2024-07-09T12:44:08.596318400Z",
     "start_time": "2024-07-09T12:44:07.969478900Z"
    }
   },
   "id": "37b056dec17afbdc",
   "execution_count": 14
  },
  {
   "cell_type": "code",
   "outputs": [],
   "source": [],
   "metadata": {
    "collapsed": false
   },
   "id": "557bd8d8bb074d4e"
  }
 ],
 "metadata": {
  "kernelspec": {
   "display_name": "Python 3 (ipykernel)",
   "language": "python",
   "name": "python3"
  },
  "language_info": {
   "codemirror_mode": {
    "name": "ipython",
    "version": 3
   },
   "file_extension": ".py",
   "mimetype": "text/x-python",
   "name": "python",
   "nbconvert_exporter": "python",
   "pygments_lexer": "ipython3",
   "version": "3.11.7"
  }
 },
 "nbformat": 4,
 "nbformat_minor": 5
}
